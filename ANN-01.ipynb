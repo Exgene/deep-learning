{
 "cells": [
  {
   "cell_type": "code",
   "execution_count": 1,
   "id": "05876356-676b-45a4-899b-c1c409c9bf72",
   "metadata": {
    "tags": []
   },
   "outputs": [],
   "source": [
    "import numpy as np\n",
    "import pandas as pd\n",
    "import matplotlib.pyplot as plt\n",
    "import sklearn.datasets \n",
    "from sklearn.model_selection import train_test_split"
   ]
  },
  {
   "cell_type": "code",
   "execution_count": 2,
   "id": "0e478d3b-eee8-4fac-ad47-112362060cbf",
   "metadata": {
    "tags": []
   },
   "outputs": [],
   "source": [
    "bc = sklearn.datasets.load_breast_cancer()\n",
    "df = pd.DataFrame(bc.data,columns=bc.feature_names)"
   ]
  },
  {
   "cell_type": "code",
   "execution_count": 3,
   "id": "a6cc86a0-dc4d-4b39-aa15-05e791e85a28",
   "metadata": {
    "tags": []
   },
   "outputs": [
    {
     "name": "stdout",
     "output_type": "stream",
     "text": [
      "<class 'pandas.core.frame.DataFrame'>\n",
      "RangeIndex: 569 entries, 0 to 568\n",
      "Data columns (total 30 columns):\n",
      " #   Column                   Non-Null Count  Dtype  \n",
      "---  ------                   --------------  -----  \n",
      " 0   mean radius              569 non-null    float64\n",
      " 1   mean texture             569 non-null    float64\n",
      " 2   mean perimeter           569 non-null    float64\n",
      " 3   mean area                569 non-null    float64\n",
      " 4   mean smoothness          569 non-null    float64\n",
      " 5   mean compactness         569 non-null    float64\n",
      " 6   mean concavity           569 non-null    float64\n",
      " 7   mean concave points      569 non-null    float64\n",
      " 8   mean symmetry            569 non-null    float64\n",
      " 9   mean fractal dimension   569 non-null    float64\n",
      " 10  radius error             569 non-null    float64\n",
      " 11  texture error            569 non-null    float64\n",
      " 12  perimeter error          569 non-null    float64\n",
      " 13  area error               569 non-null    float64\n",
      " 14  smoothness error         569 non-null    float64\n",
      " 15  compactness error        569 non-null    float64\n",
      " 16  concavity error          569 non-null    float64\n",
      " 17  concave points error     569 non-null    float64\n",
      " 18  symmetry error           569 non-null    float64\n",
      " 19  fractal dimension error  569 non-null    float64\n",
      " 20  worst radius             569 non-null    float64\n",
      " 21  worst texture            569 non-null    float64\n",
      " 22  worst perimeter          569 non-null    float64\n",
      " 23  worst area               569 non-null    float64\n",
      " 24  worst smoothness         569 non-null    float64\n",
      " 25  worst compactness        569 non-null    float64\n",
      " 26  worst concavity          569 non-null    float64\n",
      " 27  worst concave points     569 non-null    float64\n",
      " 28  worst symmetry           569 non-null    float64\n",
      " 29  worst fractal dimension  569 non-null    float64\n",
      "dtypes: float64(30)\n",
      "memory usage: 133.5 KB\n"
     ]
    }
   ],
   "source": [
    "df.info()"
   ]
  },
  {
   "cell_type": "code",
   "execution_count": 4,
   "id": "1617a8b4-31c8-4764-bf46-e389f1838ddb",
   "metadata": {
    "tags": []
   },
   "outputs": [
    {
     "data": {
      "text/plain": [
       "mean radius                0\n",
       "mean texture               0\n",
       "mean perimeter             0\n",
       "mean area                  0\n",
       "mean smoothness            0\n",
       "mean compactness           0\n",
       "mean concavity             0\n",
       "mean concave points        0\n",
       "mean symmetry              0\n",
       "mean fractal dimension     0\n",
       "radius error               0\n",
       "texture error              0\n",
       "perimeter error            0\n",
       "area error                 0\n",
       "smoothness error           0\n",
       "compactness error          0\n",
       "concavity error            0\n",
       "concave points error       0\n",
       "symmetry error             0\n",
       "fractal dimension error    0\n",
       "worst radius               0\n",
       "worst texture              0\n",
       "worst perimeter            0\n",
       "worst area                 0\n",
       "worst smoothness           0\n",
       "worst compactness          0\n",
       "worst concavity            0\n",
       "worst concave points       0\n",
       "worst symmetry             0\n",
       "worst fractal dimension    0\n",
       "label                      0\n",
       "dtype: int64"
      ]
     },
     "execution_count": 4,
     "metadata": {},
     "output_type": "execute_result"
    }
   ],
   "source": [
    "df['label'] = bc.target\n",
    "df.isnull().sum()"
   ]
  },
  {
   "cell_type": "code",
   "execution_count": 5,
   "id": "7baa43df-08d8-4b5b-8874-136cd2df5e1c",
   "metadata": {
    "tags": []
   },
   "outputs": [
    {
     "data": {
      "text/plain": [
       "(569, 31)"
      ]
     },
     "execution_count": 5,
     "metadata": {},
     "output_type": "execute_result"
    }
   ],
   "source": [
    "df.shape\n",
    "#30 Features are present!"
   ]
  },
  {
   "cell_type": "code",
   "execution_count": 6,
   "id": "1a80f636-731a-4c0f-82e0-52f16d580f9c",
   "metadata": {
    "tags": []
   },
   "outputs": [],
   "source": [
    "x = df.drop(columns='label',axis=1)\n",
    "y = df['label']"
   ]
  },
  {
   "cell_type": "code",
   "execution_count": 7,
   "id": "e5ace75a-baf4-4eca-b405-379a47143ae7",
   "metadata": {
    "tags": []
   },
   "outputs": [],
   "source": [
    "x_train,x_test,y_train,y_test = train_test_split(x,y,test_size=0.2)"
   ]
  },
  {
   "cell_type": "code",
   "execution_count": 8,
   "id": "cef807c6-4b2b-4518-96cd-93c52c5a2b21",
   "metadata": {
    "tags": []
   },
   "outputs": [],
   "source": [
    "from sklearn.preprocessing import StandardScaler\n",
    "scaler = StandardScaler()"
   ]
  },
  {
   "cell_type": "code",
   "execution_count": 9,
   "id": "83681008-f854-4ffe-8580-ce52bd2b5c97",
   "metadata": {
    "tags": []
   },
   "outputs": [],
   "source": [
    "x_train_std = scaler.fit_transform(x_train)\n",
    "x_test_std = scaler.fit_transform(x_test)"
   ]
  },
  {
   "cell_type": "code",
   "execution_count": 10,
   "id": "ed1c9311-5612-4d6d-83f2-5b513e80defb",
   "metadata": {
    "tags": []
   },
   "outputs": [],
   "source": [
    "import tensorflow as tf\n",
    "tf.random.set_seed(3)\n",
    "from tensorflow import keras"
   ]
  },
  {
   "cell_type": "code",
   "execution_count": 11,
   "id": "9e42461c-3d16-4094-8235-193d81fe1a9e",
   "metadata": {
    "tags": []
   },
   "outputs": [],
   "source": [
    "model = keras.Sequential([\n",
    "            keras.layers.Flatten(input_shape=(30,)),\n",
    "            keras.layers.Dense(20,activation='relu'),\n",
    "            keras.layers.Dense(2, activation='sigmoid')\n",
    "])"
   ]
  },
  {
   "cell_type": "code",
   "execution_count": 12,
   "id": "7623a174-f813-4cc1-ba5f-e2653a1dce2f",
   "metadata": {
    "tags": []
   },
   "outputs": [],
   "source": [
    "model.compile(optimizer='adam','\n",
    "              # loss=tf.keras.losses.SparseCategoricalCrossentropy(from_logits=True),\n",
    "              loss=\"sparse_categorical_crossentropy\",\n",
    "              metrics=['accuracy'])"
   ]
  },
  {
   "cell_type": "code",
   "execution_count": 13,
   "id": "9901fef9-c809-4a62-969c-f5286868a05d",
   "metadata": {
    "tags": []
   },
   "outputs": [
    {
     "name": "stdout",
     "output_type": "stream",
     "text": [
      "Epoch 1/25\n"
     ]
    },
    {
     "name": "stderr",
     "output_type": "stream",
     "text": [
      "C:\\Users\\Student\\AppData\\Roaming\\Python\\Python39\\site-packages\\keras\\src\\backend.py:5714: UserWarning: \"`sparse_categorical_crossentropy` received `from_logits=True`, but the `output` argument was produced by a Softmax activation and thus does not represent logits. Was this intended?\n",
      "  output, from_logits = _get_logits(\n"
     ]
    },
    {
     "name": "stdout",
     "output_type": "stream",
     "text": [
      "13/13 [==============================] - 1s 16ms/step - loss: 0.8540 - accuracy: 0.3496 - val_loss: 0.5815 - val_accuracy: 0.6304\n",
      "Epoch 2/25\n",
      "13/13 [==============================] - 0s 4ms/step - loss: 0.5939 - accuracy: 0.6504 - val_loss: 0.4183 - val_accuracy: 0.8478\n",
      "Epoch 3/25\n",
      "13/13 [==============================] - 0s 3ms/step - loss: 0.4414 - accuracy: 0.8753 - val_loss: 0.3213 - val_accuracy: 0.9348\n",
      "Epoch 4/25\n",
      "13/13 [==============================] - 0s 3ms/step - loss: 0.3480 - accuracy: 0.9218 - val_loss: 0.2547 - val_accuracy: 0.9565\n",
      "Epoch 5/25\n",
      "13/13 [==============================] - 0s 3ms/step - loss: 0.2865 - accuracy: 0.9413 - val_loss: 0.2065 - val_accuracy: 1.0000\n",
      "Epoch 6/25\n",
      "13/13 [==============================] - 0s 3ms/step - loss: 0.2431 - accuracy: 0.9487 - val_loss: 0.1706 - val_accuracy: 1.0000\n",
      "Epoch 7/25\n",
      "13/13 [==============================] - 0s 3ms/step - loss: 0.2101 - accuracy: 0.9560 - val_loss: 0.1439 - val_accuracy: 1.0000\n",
      "Epoch 8/25\n",
      "13/13 [==============================] - 0s 3ms/step - loss: 0.1856 - accuracy: 0.9633 - val_loss: 0.1234 - val_accuracy: 1.0000\n",
      "Epoch 9/25\n",
      "13/13 [==============================] - 0s 3ms/step - loss: 0.1669 - accuracy: 0.9682 - val_loss: 0.1075 - val_accuracy: 1.0000\n",
      "Epoch 10/25\n",
      "13/13 [==============================] - 0s 3ms/step - loss: 0.1512 - accuracy: 0.9707 - val_loss: 0.0951 - val_accuracy: 1.0000\n",
      "Epoch 11/25\n",
      "13/13 [==============================] - 0s 3ms/step - loss: 0.1395 - accuracy: 0.9707 - val_loss: 0.0845 - val_accuracy: 1.0000\n",
      "Epoch 12/25\n",
      "13/13 [==============================] - 0s 3ms/step - loss: 0.1296 - accuracy: 0.9707 - val_loss: 0.0760 - val_accuracy: 1.0000\n",
      "Epoch 13/25\n",
      "13/13 [==============================] - 0s 3ms/step - loss: 0.1215 - accuracy: 0.9707 - val_loss: 0.0689 - val_accuracy: 1.0000\n",
      "Epoch 14/25\n",
      "13/13 [==============================] - 0s 3ms/step - loss: 0.1142 - accuracy: 0.9707 - val_loss: 0.0630 - val_accuracy: 1.0000\n",
      "Epoch 15/25\n",
      "13/13 [==============================] - 0s 4ms/step - loss: 0.1084 - accuracy: 0.9731 - val_loss: 0.0581 - val_accuracy: 1.0000\n",
      "Epoch 16/25\n",
      "13/13 [==============================] - 0s 3ms/step - loss: 0.1030 - accuracy: 0.9780 - val_loss: 0.0539 - val_accuracy: 1.0000\n",
      "Epoch 17/25\n",
      "13/13 [==============================] - 0s 3ms/step - loss: 0.0985 - accuracy: 0.9780 - val_loss: 0.0505 - val_accuracy: 1.0000\n",
      "Epoch 18/25\n",
      "13/13 [==============================] - 0s 4ms/step - loss: 0.0946 - accuracy: 0.9780 - val_loss: 0.0475 - val_accuracy: 1.0000\n",
      "Epoch 19/25\n",
      "13/13 [==============================] - 0s 3ms/step - loss: 0.0913 - accuracy: 0.9780 - val_loss: 0.0442 - val_accuracy: 1.0000\n",
      "Epoch 20/25\n",
      "13/13 [==============================] - 0s 3ms/step - loss: 0.0880 - accuracy: 0.9780 - val_loss: 0.0424 - val_accuracy: 1.0000\n",
      "Epoch 21/25\n",
      "13/13 [==============================] - 0s 4ms/step - loss: 0.0851 - accuracy: 0.9780 - val_loss: 0.0404 - val_accuracy: 1.0000\n",
      "Epoch 22/25\n",
      "13/13 [==============================] - 0s 3ms/step - loss: 0.0826 - accuracy: 0.9780 - val_loss: 0.0386 - val_accuracy: 1.0000\n",
      "Epoch 23/25\n",
      "13/13 [==============================] - 0s 3ms/step - loss: 0.0804 - accuracy: 0.9780 - val_loss: 0.0367 - val_accuracy: 1.0000\n",
      "Epoch 24/25\n",
      "13/13 [==============================] - 0s 3ms/step - loss: 0.0783 - accuracy: 0.9780 - val_loss: 0.0353 - val_accuracy: 1.0000\n",
      "Epoch 25/25\n",
      "13/13 [==============================] - 0s 3ms/step - loss: 0.0763 - accuracy: 0.9780 - val_loss: 0.0346 - val_accuracy: 1.0000\n"
     ]
    }
   ],
   "source": [
    "#This model kinda sucks make it better at home!\n",
    "history = model.fit(x_train_std,y_train,validation_split=0.1,epochs=25)"
   ]
  },
  {
   "cell_type": "code",
   "execution_count": 21,
   "id": "9bbfb16c-7465-4e3d-bab6-13573ffaa645",
   "metadata": {
    "tags": []
   },
   "outputs": [
    {
     "name": "stdout",
     "output_type": "stream",
     "text": [
      "4/4 - 0s - loss: 0.1016 - accuracy: 0.9561 - 23ms/epoch - 6ms/step\n",
      "\n",
      "Test accuracy:\n",
      " Test loss: 0.9561403393745422 0.10161192715167999\n"
     ]
    }
   ],
   "source": [
    "test_loss, test_acc = model.evaluate(x_test_std, y_test, verbose=2)\n",
    "\n",
    "print('\\nTest accuracy:\\n Test loss:', test_acc,test_loss)"
   ]
  },
  {
   "cell_type": "code",
   "execution_count": 15,
   "id": "aa468a6e-fed2-4d92-9d35-dfbfe29c4fb5",
   "metadata": {
    "tags": []
   },
   "outputs": [],
   "source": [
    "probability_model = keras.Sequential([model, \n",
    "                                         keras.layers.Softmax()])"
   ]
  },
  {
   "cell_type": "code",
   "execution_count": 16,
   "id": "d7cb7335-2789-4b91-bcc5-92ec78f92c4d",
   "metadata": {
    "tags": []
   },
   "outputs": [
    {
     "name": "stdout",
     "output_type": "stream",
     "text": [
      "4/4 [==============================] - 0s 0s/step\n"
     ]
    }
   ],
   "source": [
    "predictions = probability_model.predict(x_test_std)"
   ]
  },
  {
   "cell_type": "code",
   "execution_count": 17,
   "id": "8f680d76-ae8a-492f-a483-59dfce732a90",
   "metadata": {
    "tags": []
   },
   "outputs": [
    {
     "data": {
      "text/plain": [
       "[1,\n",
       " 0,\n",
       " 0,\n",
       " 0,\n",
       " 0,\n",
       " 0,\n",
       " 0,\n",
       " 1,\n",
       " 0,\n",
       " 0,\n",
       " 1,\n",
       " 1,\n",
       " 1,\n",
       " 1,\n",
       " 0,\n",
       " 1,\n",
       " 0,\n",
       " 1,\n",
       " 1,\n",
       " 1,\n",
       " 0,\n",
       " 1,\n",
       " 1,\n",
       " 0,\n",
       " 1,\n",
       " 1,\n",
       " 0,\n",
       " 1,\n",
       " 1,\n",
       " 1,\n",
       " 0,\n",
       " 0,\n",
       " 0,\n",
       " 1,\n",
       " 1,\n",
       " 1,\n",
       " 0,\n",
       " 0,\n",
       " 0,\n",
       " 0,\n",
       " 0,\n",
       " 1,\n",
       " 1,\n",
       " 1,\n",
       " 0,\n",
       " 0,\n",
       " 1,\n",
       " 0,\n",
       " 0,\n",
       " 1,\n",
       " 0,\n",
       " 1,\n",
       " 0,\n",
       " 1,\n",
       " 1,\n",
       " 1,\n",
       " 1,\n",
       " 1,\n",
       " 0,\n",
       " 1,\n",
       " 1,\n",
       " 0,\n",
       " 0,\n",
       " 1,\n",
       " 1,\n",
       " 1,\n",
       " 1,\n",
       " 1,\n",
       " 1,\n",
       " 1,\n",
       " 1,\n",
       " 1,\n",
       " 1,\n",
       " 0,\n",
       " 0,\n",
       " 1,\n",
       " 1,\n",
       " 1,\n",
       " 1,\n",
       " 1,\n",
       " 1,\n",
       " 1,\n",
       " 0,\n",
       " 1,\n",
       " 1,\n",
       " 1,\n",
       " 1,\n",
       " 1,\n",
       " 0,\n",
       " 0,\n",
       " 0,\n",
       " 1,\n",
       " 0,\n",
       " 1,\n",
       " 0,\n",
       " 1,\n",
       " 0,\n",
       " 1,\n",
       " 1,\n",
       " 0,\n",
       " 1,\n",
       " 0,\n",
       " 1,\n",
       " 1,\n",
       " 1,\n",
       " 0,\n",
       " 1,\n",
       " 1,\n",
       " 1,\n",
       " 0,\n",
       " 0,\n",
       " 1,\n",
       " 1,\n",
       " 1]"
      ]
     },
     "execution_count": 17,
     "metadata": {},
     "output_type": "execute_result"
    }
   ],
   "source": [
    "predicted_labels = []\n",
    "for i in predictions:\n",
    "    predicted_labels.append(np.argmax(i))\n",
    "\n",
    "predicted_labels"
   ]
  },
  {
   "cell_type": "code",
   "execution_count": 18,
   "id": "949d37f2-bc6d-4815-9d16-7816dace7fa8",
   "metadata": {
    "tags": []
   },
   "outputs": [
    {
     "data": {
      "text/plain": [
       "410    1\n",
       "282    0\n",
       "379    0\n",
       "373    0\n",
       "35     0\n",
       "      ..\n",
       "86     0\n",
       "53     0\n",
       "183    1\n",
       "320    1\n",
       "558    1\n",
       "Name: label, Length: 114, dtype: int32"
      ]
     },
     "execution_count": 18,
     "metadata": {},
     "output_type": "execute_result"
    }
   ],
   "source": [
    "y_test"
   ]
  },
  {
   "cell_type": "code",
   "execution_count": 19,
   "id": "fbc597e2-9575-4def-88df-bd2f14a8cb4b",
   "metadata": {
    "tags": []
   },
   "outputs": [
    {
     "data": {
      "text/plain": [
       "<matplotlib.legend.Legend at 0x21ae438f8b0>"
      ]
     },
     "execution_count": 19,
     "metadata": {},
     "output_type": "execute_result"
    },
    {
     "data": {
      "image/png": "[encoded data removed]",
      "text/plain": [
       "<Figure size 640x480 with 1 Axes>"
      ]
     },
     "metadata": {},
     "output_type": "display_data"
    }
   ],
   "source": [
    "plt.plot(history.history['accuracy'])\n",
    "plt.plot(history.history['val_accuracy'])\n",
    "\n",
    "plt.title('Model_accuracy')\n",
    "plt.xlabel('epochs')\n",
    "plt.ylabel('Accuracy')\n",
    "\n",
    "plt.legend(['training data','validation data'], loc = 'lower right')"
   ]
  },
  {
   "cell_type": "code",
   "execution_count": 22,
   "id": "f3ffb61a-6db5-479e-87b3-58abbb8f8f45",
   "metadata": {
    "tags": []
   },
   "outputs": [
    {
     "data": {
      "text/plain": [
       "<matplotlib.legend.Legend at 0x21ae66d8df0>"
      ]
     },
     "execution_count": 22,
     "metadata": {},
     "output_type": "execute_result"
    },
    {
     "data": {
      "image/png": "[encoded data removed]",
      "text/plain": [
       "<Figure size 640x480 with 1 Axes>"
      ]
     },
     "metadata": {},
     "output_type": "display_data"
    }
   ],
   "source": [
    "plt.plot(history.history['loss'])\n",
    "plt.plot(history.history['val_accuracy'])\n",
    "\n",
    "plt.title('Model_accuracy')\n",
    "plt.xlabel('epochs')\n",
    "plt.ylabel('Accuracy')\n",
    "\n",
    "plt.legend(['training data','validation data'], loc = 'lower right')"
   ]
  },
  {
   "cell_type": "code",
   "execution_count": null,
   "id": "7f439f5e-fd5b-4ce0-87af-731585543e56",
   "metadata": {},
   "outputs": [],
   "source": []
  }
 ],
 "metadata": {
  "kernelspec": {
   "display_name": "Python 3 (ipykernel)",
   "language": "python",
   "name": "python3"
  },
  "language_info": {
   "codemirror_mode": {
    "name": "ipython",
    "version": 3
   },
   "file_extension": ".py",
   "mimetype": "text/x-python",
   "name": "python",
   "nbconvert_exporter": "python",
   "pygments_lexer": "ipython3",
   "version": "3.9.18"
  }
 },
 "nbformat": 4,
 "nbformat_minor": 5
}

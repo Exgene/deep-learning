{
 "cells": [
  {
   "cell_type": "code",
   "execution_count": 35,
   "id": "df4d13c4",
   "metadata": {
    "tags": []
   },
   "outputs": [],
   "source": [
    "from sklearn import datasets\n",
    "from sklearn.model_selection import train_test_split\n",
    "from keras.utils import to_categorical\n",
    "from keras.models import Sequential\n",
    "from keras.layers import Conv2D,MaxPooling2D,Flatten,Dense\n",
    "from keras.callbacks import EarlyStopping,ModelCheckpoint\n",
    "import matplotlib.pyplot as plt"
   ]
  },
  {
   "cell_type": "code",
   "execution_count": 36,
   "id": "4226ef12",
   "metadata": {
    "tags": []
   },
   "outputs": [],
   "source": [
    "data=datasets.load_digits()\n",
    "x=data.images\n",
    "y=data.target\n"
   ]
  },
  {
   "cell_type": "code",
   "execution_count": 37,
   "id": "95cf0741",
   "metadata": {
    "tags": []
   },
   "outputs": [],
   "source": [
    "x=x.reshape((x.shape[0],8,8,1))\n",
    "x=x.astype('float32')/255\n",
    "y=to_categorical(y)\n"
   ]
  },
  {
   "cell_type": "code",
   "execution_count": 38,
   "id": "3cfe840a",
   "metadata": {
    "tags": []
   },
   "outputs": [],
   "source": [
    "x_train,x_test,y_train,y_test=train_test_split(x,y,test_size=0.2)"
   ]
  },
  {
   "cell_type": "code",
   "execution_count": 39,
   "id": "8130d426",
   "metadata": {
    "tags": []
   },
   "outputs": [],
   "source": [
    "model=Sequential()\n",
    "model.add(Conv2D(32,kernel_size=(3,3),activation='relu',input_shape=(8,8,1)))\n",
    "model.add(MaxPooling2D(pool_size=(2,2)))\n",
    "model.add(Flatten())\n",
    "model.add(Dense(64,activation='relu'))\n",
    "model.add(Dense(10,activation='softmax'))\n"
   ]
  },
  {
   "cell_type": "code",
   "execution_count": 40,
   "id": "70de1b0a",
   "metadata": {
    "tags": []
   },
   "outputs": [],
   "source": [
    "model.compile(optimizer='adam',loss='categorical_crossentropy',metrics=['accuracy'])"
   ]
  },
  {
   "cell_type": "code",
   "execution_count": 41,
   "id": "c0d2922d",
   "metadata": {
    "tags": []
   },
   "outputs": [],
   "source": [
    "earlystop=EarlyStopping(monitor='val_loss',patience=10)\n",
    "best_weights=ModelCheckpoint('best_weights.h5',save_best_only=True,monitor='val_loss',mode='min')"
   ]
  },
  {
   "cell_type": "code",
   "execution_count": 42,
   "id": "1045345c",
   "metadata": {
    "tags": []
   },
   "outputs": [
    {
     "name": "stdout",
     "output_type": "stream",
     "text": [
      "Epoch 1/50\n",
      "45/45 [==============================] - 1s 7ms/step - loss: 2.2909 - accuracy: 0.2317 - val_loss: 2.2735 - val_accuracy: 0.4222\n",
      "Epoch 2/50\n",
      "45/45 [==============================] - 0s 4ms/step - loss: 2.2439 - accuracy: 0.3215 - val_loss: 2.1999 - val_accuracy: 0.5139\n",
      "Epoch 3/50\n",
      "45/45 [==============================] - 0s 3ms/step - loss: 2.1166 - accuracy: 0.6632 - val_loss: 2.0113 - val_accuracy: 0.7194\n",
      "Epoch 4/50\n",
      "45/45 [==============================] - 0s 4ms/step - loss: 1.8495 - accuracy: 0.7070 - val_loss: 1.6735 - val_accuracy: 0.6972\n",
      "Epoch 5/50\n",
      "45/45 [==============================] - 0s 4ms/step - loss: 1.4853 - accuracy: 0.7509 - val_loss: 1.3082 - val_accuracy: 0.7944\n",
      "Epoch 6/50\n",
      "45/45 [==============================] - 0s 4ms/step - loss: 1.1329 - accuracy: 0.8274 - val_loss: 0.9981 - val_accuracy: 0.8389\n",
      "Epoch 7/50\n",
      "45/45 [==============================] - 0s 4ms/step - loss: 0.8721 - accuracy: 0.8420 - val_loss: 0.7901 - val_accuracy: 0.8528\n",
      "Epoch 8/50\n",
      "45/45 [==============================] - 0s 5ms/step - loss: 0.7016 - accuracy: 0.8664 - val_loss: 0.6618 - val_accuracy: 0.8667\n",
      "Epoch 9/50\n",
      "45/45 [==============================] - 0s 4ms/step - loss: 0.5799 - accuracy: 0.8720 - val_loss: 0.5710 - val_accuracy: 0.8972\n",
      "Epoch 10/50\n",
      "45/45 [==============================] - 0s 4ms/step - loss: 0.5028 - accuracy: 0.8894 - val_loss: 0.4919 - val_accuracy: 0.8833\n",
      "Epoch 11/50\n",
      "45/45 [==============================] - 0s 3ms/step - loss: 0.4506 - accuracy: 0.8949 - val_loss: 0.4508 - val_accuracy: 0.8944\n",
      "Epoch 12/50\n",
      "45/45 [==============================] - 0s 4ms/step - loss: 0.3996 - accuracy: 0.9144 - val_loss: 0.4230 - val_accuracy: 0.8861\n",
      "Epoch 13/50\n",
      "45/45 [==============================] - 0s 4ms/step - loss: 0.3674 - accuracy: 0.9172 - val_loss: 0.3766 - val_accuracy: 0.8889\n",
      "Epoch 14/50\n",
      "45/45 [==============================] - 0s 3ms/step - loss: 0.3314 - accuracy: 0.9283 - val_loss: 0.3635 - val_accuracy: 0.8889\n",
      "Epoch 15/50\n",
      "45/45 [==============================] - 0s 3ms/step - loss: 0.3121 - accuracy: 0.9248 - val_loss: 0.3224 - val_accuracy: 0.9139\n",
      "Epoch 16/50\n",
      "45/45 [==============================] - 0s 3ms/step - loss: 0.2920 - accuracy: 0.9248 - val_loss: 0.3227 - val_accuracy: 0.8972\n",
      "Epoch 17/50\n",
      "45/45 [==============================] - 0s 3ms/step - loss: 0.2716 - accuracy: 0.9318 - val_loss: 0.2821 - val_accuracy: 0.9194\n",
      "Epoch 18/50\n",
      "45/45 [==============================] - 0s 3ms/step - loss: 0.2544 - accuracy: 0.9381 - val_loss: 0.2857 - val_accuracy: 0.9083\n",
      "Epoch 19/50\n",
      "45/45 [==============================] - 0s 3ms/step - loss: 0.2444 - accuracy: 0.9297 - val_loss: 0.2752 - val_accuracy: 0.9167\n",
      "Epoch 20/50\n",
      "45/45 [==============================] - 0s 4ms/step - loss: 0.2345 - accuracy: 0.9408 - val_loss: 0.2468 - val_accuracy: 0.9306\n",
      "Epoch 21/50\n",
      "45/45 [==============================] - 0s 4ms/step - loss: 0.2176 - accuracy: 0.9429 - val_loss: 0.2309 - val_accuracy: 0.9389\n",
      "Epoch 22/50\n",
      "45/45 [==============================] - 0s 4ms/step - loss: 0.2068 - accuracy: 0.9471 - val_loss: 0.2273 - val_accuracy: 0.9278\n",
      "Epoch 23/50\n",
      "45/45 [==============================] - 0s 3ms/step - loss: 0.1999 - accuracy: 0.9499 - val_loss: 0.2303 - val_accuracy: 0.9222\n",
      "Epoch 24/50\n",
      "45/45 [==============================] - 0s 3ms/step - loss: 0.1900 - accuracy: 0.9506 - val_loss: 0.2087 - val_accuracy: 0.9417\n",
      "Epoch 25/50\n",
      "45/45 [==============================] - 0s 3ms/step - loss: 0.1805 - accuracy: 0.9541 - val_loss: 0.2173 - val_accuracy: 0.9361\n",
      "Epoch 26/50\n",
      "45/45 [==============================] - 0s 3ms/step - loss: 0.1763 - accuracy: 0.9499 - val_loss: 0.2080 - val_accuracy: 0.9444\n",
      "Epoch 27/50\n",
      "45/45 [==============================] - 0s 4ms/step - loss: 0.1707 - accuracy: 0.9596 - val_loss: 0.2023 - val_accuracy: 0.9417\n",
      "Epoch 28/50\n",
      "45/45 [==============================] - 0s 4ms/step - loss: 0.1702 - accuracy: 0.9520 - val_loss: 0.1963 - val_accuracy: 0.9528\n",
      "Epoch 29/50\n",
      "45/45 [==============================] - 0s 3ms/step - loss: 0.1545 - accuracy: 0.9631 - val_loss: 0.1799 - val_accuracy: 0.9444\n",
      "Epoch 30/50\n",
      "45/45 [==============================] - 0s 3ms/step - loss: 0.1520 - accuracy: 0.9610 - val_loss: 0.1853 - val_accuracy: 0.9500\n",
      "Epoch 31/50\n",
      "45/45 [==============================] - 0s 3ms/step - loss: 0.1424 - accuracy: 0.9666 - val_loss: 0.1885 - val_accuracy: 0.9389\n",
      "Epoch 32/50\n",
      "45/45 [==============================] - 0s 3ms/step - loss: 0.1393 - accuracy: 0.9624 - val_loss: 0.1704 - val_accuracy: 0.9500\n",
      "Epoch 33/50\n",
      "45/45 [==============================] - 0s 4ms/step - loss: 0.1345 - accuracy: 0.9631 - val_loss: 0.1727 - val_accuracy: 0.9556\n",
      "Epoch 34/50\n",
      "45/45 [==============================] - 0s 3ms/step - loss: 0.1303 - accuracy: 0.9652 - val_loss: 0.1608 - val_accuracy: 0.9556\n",
      "Epoch 35/50\n",
      "45/45 [==============================] - 0s 4ms/step - loss: 0.1258 - accuracy: 0.9694 - val_loss: 0.1606 - val_accuracy: 0.9556\n",
      "Epoch 36/50\n",
      "45/45 [==============================] - 0s 3ms/step - loss: 0.1224 - accuracy: 0.9680 - val_loss: 0.1466 - val_accuracy: 0.9611\n",
      "Epoch 37/50\n",
      "45/45 [==============================] - 0s 3ms/step - loss: 0.1179 - accuracy: 0.9708 - val_loss: 0.1522 - val_accuracy: 0.9583\n",
      "Epoch 38/50\n",
      "45/45 [==============================] - 0s 3ms/step - loss: 0.1140 - accuracy: 0.9729 - val_loss: 0.1523 - val_accuracy: 0.9556\n",
      "Epoch 39/50\n",
      "45/45 [==============================] - 0s 2ms/step - loss: 0.1122 - accuracy: 0.9736 - val_loss: 0.1525 - val_accuracy: 0.9611\n",
      "Epoch 40/50\n",
      "45/45 [==============================] - 0s 3ms/step - loss: 0.1072 - accuracy: 0.9736 - val_loss: 0.1494 - val_accuracy: 0.9611\n",
      "Epoch 41/50\n",
      "45/45 [==============================] - 0s 3ms/step - loss: 0.1047 - accuracy: 0.9743 - val_loss: 0.1399 - val_accuracy: 0.9667\n",
      "Epoch 42/50\n",
      "45/45 [==============================] - 0s 4ms/step - loss: 0.1021 - accuracy: 0.9784 - val_loss: 0.1285 - val_accuracy: 0.9667\n",
      "Epoch 43/50\n",
      "45/45 [==============================] - 0s 3ms/step - loss: 0.0989 - accuracy: 0.9749 - val_loss: 0.1323 - val_accuracy: 0.9611\n",
      "Epoch 44/50\n",
      "45/45 [==============================] - 0s 2ms/step - loss: 0.0956 - accuracy: 0.9763 - val_loss: 0.1458 - val_accuracy: 0.9611\n",
      "Epoch 45/50\n",
      "45/45 [==============================] - 0s 3ms/step - loss: 0.0969 - accuracy: 0.9763 - val_loss: 0.1481 - val_accuracy: 0.9611\n",
      "Epoch 46/50\n",
      "45/45 [==============================] - 0s 3ms/step - loss: 0.0986 - accuracy: 0.9729 - val_loss: 0.1492 - val_accuracy: 0.9556\n",
      "Epoch 47/50\n",
      "45/45 [==============================] - 0s 3ms/step - loss: 0.0896 - accuracy: 0.9763 - val_loss: 0.1320 - val_accuracy: 0.9583\n",
      "Epoch 48/50\n",
      "45/45 [==============================] - 0s 3ms/step - loss: 0.0871 - accuracy: 0.9756 - val_loss: 0.1289 - val_accuracy: 0.9667\n",
      "Epoch 49/50\n",
      "45/45 [==============================] - 0s 3ms/step - loss: 0.0842 - accuracy: 0.9798 - val_loss: 0.1252 - val_accuracy: 0.9639\n",
      "Epoch 50/50\n",
      "45/45 [==============================] - 0s 4ms/step - loss: 0.0816 - accuracy: 0.9777 - val_loss: 0.1188 - val_accuracy: 0.9611\n"
     ]
    }
   ],
   "source": [
    "history=model.fit(x_train,y_train,epochs=50,batch_size=32,validation_data=(x_test,y_test),\n",
    "                  callbacks=[earlystop,best_weights])"
   ]
  },
  {
   "cell_type": "code",
   "execution_count": 43,
   "id": "6c3b470c",
   "metadata": {
    "tags": []
   },
   "outputs": [
    {
     "data": {
      "image/png": "[encoded data removed]",
      "text/plain": [
       "<Figure size 640x480 with 1 Axes>"
      ]
     },
     "metadata": {},
     "output_type": "display_data"
    }
   ],
   "source": [
    "plt.plot(history.history['val_loss'])\n",
    "plt.title('Validation Loss')\n",
    "plt.ylabel('Loss')\n",
    "plt.xlabel('Epoch')\n",
    "plt.show()"
   ]
  },
  {
   "cell_type": "code",
   "execution_count": 44,
   "id": "5131859f",
   "metadata": {
    "tags": []
   },
   "outputs": [
    {
     "data": {
      "image/png": "[encoded data removed]",
      "text/plain": [
       "<Figure size 640x480 with 1 Axes>"
      ]
     },
     "metadata": {},
     "output_type": "display_data"
    }
   ],
   "source": [
    "plt.plot(history.history['val_accuracy'])\n",
    "plt.title('Validation accuracy')\n",
    "plt.ylabel('Accuracy')\n",
    "plt.xlabel('Epoch')\n",
    "plt.show()"
   ]
  },
  {
   "cell_type": "code",
   "execution_count": 45,
   "id": "d6e0b07c",
   "metadata": {
    "tags": []
   },
   "outputs": [],
   "source": [
    "model.load_weights(\"best_weights.h5\")"
   ]
  },
  {
   "cell_type": "code",
   "execution_count": 46,
   "id": "da7fdd2d",
   "metadata": {
    "tags": []
   },
   "outputs": [
    {
     "name": "stdout",
     "output_type": "stream",
     "text": [
      "Test Loss: 0.11881058663129807\n",
      "Test Accuracy: 0.9611111283302307\n"
     ]
    }
   ],
   "source": [
    "test_loss,test_acc=model.evaluate(x_test,y_test,verbose=0)\n",
    "print(\"Test Loss:\",test_loss)\n",
    "print(\"Test Accuracy:\",test_acc)"
   ]
  },
  {
   "cell_type": "code",
   "execution_count": null,
   "id": "0c35c457",
   "metadata": {},
   "outputs": [],
   "source": []
  }
 ],
 "metadata": {
  "kernelspec": {
   "display_name": "Python 3 (ipykernel)",
   "language": "python",
   "name": "python3"
  },
  "language_info": {
   "codemirror_mode": {
    "name": "ipython",
    "version": 3
   },
   "file_extension": ".py",
   "mimetype": "text/x-python",
   "name": "python",
   "nbconvert_exporter": "python",
   "pygments_lexer": "ipython3",
   "version": "3.9.18"
  }
 },
 "nbformat": 4,
 "nbformat_minor": 5
}

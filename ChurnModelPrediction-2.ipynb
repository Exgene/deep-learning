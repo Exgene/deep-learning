{
 "cells": [
  {
   "cell_type": "markdown",
   "id": "70081d99-5ca6-48a0-9446-51c54b0e40ed",
   "metadata": {},
   "source": [
    "# Check whether the bank customer stays or not!"
   ]
  },
  {
   "cell_type": "code",
   "execution_count": 108,
   "id": "56b04cba-1a7f-4000-904a-fed9b14bd3c5",
   "metadata": {
    "tags": []
   },
   "outputs": [],
   "source": [
    "import numpy as np\n",
    "import matplotlib.pyplot as plt\n",
    "import pandas as pd"
   ]
  },
  {
   "cell_type": "code",
   "execution_count": 109,
   "id": "d9d680e1-4f22-4e68-9d7f-61e71bc61b7e",
   "metadata": {
    "tags": []
   },
   "outputs": [
    {
     "data": {
      "text/html": [
       "<div>\n",
       "<style scoped>\n",
       "    .dataframe tbody tr th:only-of-type {\n",
       "        vertical-align: middle;\n",
       "    }\n",
       "\n",
       "    .dataframe tbody tr th {\n",
       "        vertical-align: top;\n",
       "    }\n",
       "\n",
       "    .dataframe thead th {\n",
       "        text-align: right;\n",
       "    }\n",
       "</style>\n",
       "<table border=\"1\" class=\"dataframe\">\n",
       "  <thead>\n",
       "    <tr style=\"text-align: right;\">\n",
       "      <th></th>\n",
       "      <th>RowNumber</th>\n",
       "      <th>CustomerId</th>\n",
       "      <th>Surname</th>\n",
       "      <th>CreditScore</th>\n",
       "      <th>Geography</th>\n",
       "      <th>Gender</th>\n",
       "      <th>Age</th>\n",
       "      <th>Tenure</th>\n",
       "      <th>Balance</th>\n",
       "      <th>NumOfProducts</th>\n",
       "      <th>HasCrCard</th>\n",
       "      <th>IsActiveMember</th>\n",
       "      <th>EstimatedSalary</th>\n",
       "      <th>Exited</th>\n",
       "    </tr>\n",
       "  </thead>\n",
       "  <tbody>\n",
       "    <tr>\n",
       "      <th>0</th>\n",
       "      <td>1</td>\n",
       "      <td>15634602</td>\n",
       "      <td>Hargrave</td>\n",
       "      <td>619</td>\n",
       "      <td>France</td>\n",
       "      <td>Female</td>\n",
       "      <td>42</td>\n",
       "      <td>2</td>\n",
       "      <td>0.00</td>\n",
       "      <td>1</td>\n",
       "      <td>1</td>\n",
       "      <td>1</td>\n",
       "      <td>101348.88</td>\n",
       "      <td>1</td>\n",
       "    </tr>\n",
       "    <tr>\n",
       "      <th>1</th>\n",
       "      <td>2</td>\n",
       "      <td>15647311</td>\n",
       "      <td>Hill</td>\n",
       "      <td>608</td>\n",
       "      <td>Spain</td>\n",
       "      <td>Female</td>\n",
       "      <td>41</td>\n",
       "      <td>1</td>\n",
       "      <td>83807.86</td>\n",
       "      <td>1</td>\n",
       "      <td>0</td>\n",
       "      <td>1</td>\n",
       "      <td>112542.58</td>\n",
       "      <td>0</td>\n",
       "    </tr>\n",
       "    <tr>\n",
       "      <th>2</th>\n",
       "      <td>3</td>\n",
       "      <td>15619304</td>\n",
       "      <td>Onio</td>\n",
       "      <td>502</td>\n",
       "      <td>France</td>\n",
       "      <td>Female</td>\n",
       "      <td>42</td>\n",
       "      <td>8</td>\n",
       "      <td>159660.80</td>\n",
       "      <td>3</td>\n",
       "      <td>1</td>\n",
       "      <td>0</td>\n",
       "      <td>113931.57</td>\n",
       "      <td>1</td>\n",
       "    </tr>\n",
       "    <tr>\n",
       "      <th>3</th>\n",
       "      <td>4</td>\n",
       "      <td>15701354</td>\n",
       "      <td>Boni</td>\n",
       "      <td>699</td>\n",
       "      <td>France</td>\n",
       "      <td>Female</td>\n",
       "      <td>39</td>\n",
       "      <td>1</td>\n",
       "      <td>0.00</td>\n",
       "      <td>2</td>\n",
       "      <td>0</td>\n",
       "      <td>0</td>\n",
       "      <td>93826.63</td>\n",
       "      <td>0</td>\n",
       "    </tr>\n",
       "    <tr>\n",
       "      <th>4</th>\n",
       "      <td>5</td>\n",
       "      <td>15737888</td>\n",
       "      <td>Mitchell</td>\n",
       "      <td>850</td>\n",
       "      <td>Spain</td>\n",
       "      <td>Female</td>\n",
       "      <td>43</td>\n",
       "      <td>2</td>\n",
       "      <td>125510.82</td>\n",
       "      <td>1</td>\n",
       "      <td>1</td>\n",
       "      <td>1</td>\n",
       "      <td>79084.10</td>\n",
       "      <td>0</td>\n",
       "    </tr>\n",
       "  </tbody>\n",
       "</table>\n",
       "</div>"
      ],
      "text/plain": [
       "   RowNumber  CustomerId   Surname  CreditScore Geography  Gender  Age  \\\n",
       "0          1    15634602  Hargrave          619    France  Female   42   \n",
       "1          2    15647311      Hill          608     Spain  Female   41   \n",
       "2          3    15619304      Onio          502    France  Female   42   \n",
       "3          4    15701354      Boni          699    France  Female   39   \n",
       "4          5    15737888  Mitchell          850     Spain  Female   43   \n",
       "\n",
       "   Tenure    Balance  NumOfProducts  HasCrCard  IsActiveMember  \\\n",
       "0       2       0.00              1          1               1   \n",
       "1       1   83807.86              1          0               1   \n",
       "2       8  159660.80              3          1               0   \n",
       "3       1       0.00              2          0               0   \n",
       "4       2  125510.82              1          1               1   \n",
       "\n",
       "   EstimatedSalary  Exited  \n",
       "0        101348.88       1  \n",
       "1        112542.58       0  \n",
       "2        113931.57       1  \n",
       "3         93826.63       0  \n",
       "4         79084.10       0  "
      ]
     },
     "execution_count": 109,
     "metadata": {},
     "output_type": "execute_result"
    }
   ],
   "source": [
    "df = pd.read_csv('Churn_Modelling.csv')\n",
    "df.head()"
   ]
  },
  {
   "cell_type": "code",
   "execution_count": 110,
   "id": "f7f9dd53-0cad-4e14-9153-1d19186e79e7",
   "metadata": {
    "tags": []
   },
   "outputs": [
    {
     "data": {
      "text/plain": [
       "<bound method DataFrame.info of       RowNumber  CustomerId    Surname  CreditScore Geography  Gender  Age  \\\n",
       "0             1    15634602   Hargrave          619    France  Female   42   \n",
       "1             2    15647311       Hill          608     Spain  Female   41   \n",
       "2             3    15619304       Onio          502    France  Female   42   \n",
       "3             4    15701354       Boni          699    France  Female   39   \n",
       "4             5    15737888   Mitchell          850     Spain  Female   43   \n",
       "...         ...         ...        ...          ...       ...     ...  ...   \n",
       "9995       9996    15606229   Obijiaku          771    France    Male   39   \n",
       "9996       9997    15569892  Johnstone          516    France    Male   35   \n",
       "9997       9998    15584532        Liu          709    France  Female   36   \n",
       "9998       9999    15682355  Sabbatini          772   Germany    Male   42   \n",
       "9999      10000    15628319     Walker          792    France  Female   28   \n",
       "\n",
       "      Tenure    Balance  NumOfProducts  HasCrCard  IsActiveMember  \\\n",
       "0          2       0.00              1          1               1   \n",
       "1          1   83807.86              1          0               1   \n",
       "2          8  159660.80              3          1               0   \n",
       "3          1       0.00              2          0               0   \n",
       "4          2  125510.82              1          1               1   \n",
       "...      ...        ...            ...        ...             ...   \n",
       "9995       5       0.00              2          1               0   \n",
       "9996      10   57369.61              1          1               1   \n",
       "9997       7       0.00              1          0               1   \n",
       "9998       3   75075.31              2          1               0   \n",
       "9999       4  130142.79              1          1               0   \n",
       "\n",
       "      EstimatedSalary  Exited  \n",
       "0           101348.88       1  \n",
       "1           112542.58       0  \n",
       "2           113931.57       1  \n",
       "3            93826.63       0  \n",
       "4            79084.10       0  \n",
       "...               ...     ...  \n",
       "9995         96270.64       0  \n",
       "9996        101699.77       0  \n",
       "9997         42085.58       1  \n",
       "9998         92888.52       1  \n",
       "9999         38190.78       0  \n",
       "\n",
       "[10000 rows x 14 columns]>"
      ]
     },
     "execution_count": 110,
     "metadata": {},
     "output_type": "execute_result"
    }
   ],
   "source": [
    "df.info"
   ]
  },
  {
   "cell_type": "code",
   "execution_count": 111,
   "id": "f8ce9415-2de4-40e8-8f91-ad1d6f55520d",
   "metadata": {
    "tags": []
   },
   "outputs": [],
   "source": [
    "x = df.iloc[:,3:13]\n",
    "y = df.iloc[:,13]"
   ]
  },
  {
   "cell_type": "code",
   "execution_count": 112,
   "id": "2c70295b-94b6-4235-9cbc-f06139086ef7",
   "metadata": {
    "tags": []
   },
   "outputs": [
    {
     "data": {
      "text/plain": [
       "CreditScore        0\n",
       "Geography          0\n",
       "Gender             0\n",
       "Age                0\n",
       "Tenure             0\n",
       "Balance            0\n",
       "NumOfProducts      0\n",
       "HasCrCard          0\n",
       "IsActiveMember     0\n",
       "EstimatedSalary    0\n",
       "dtype: int64"
      ]
     },
     "execution_count": 112,
     "metadata": {},
     "output_type": "execute_result"
    }
   ],
   "source": [
    "x.isnull().sum()\n"
   ]
  },
  {
   "cell_type": "code",
   "execution_count": 113,
   "id": "02664ac1-8544-400b-9167-0b5311253dff",
   "metadata": {
    "tags": []
   },
   "outputs": [
    {
     "data": {
      "text/plain": [
       "0"
      ]
     },
     "execution_count": 113,
     "metadata": {},
     "output_type": "execute_result"
    }
   ],
   "source": [
    "y.isnull().sum()"
   ]
  },
  {
   "cell_type": "code",
   "execution_count": 114,
   "id": "a0da3eb5-2e65-42e2-9e2b-7c76d803de00",
   "metadata": {
    "tags": []
   },
   "outputs": [
    {
     "data": {
      "text/html": [
       "<div>\n",
       "<style scoped>\n",
       "    .dataframe tbody tr th:only-of-type {\n",
       "        vertical-align: middle;\n",
       "    }\n",
       "\n",
       "    .dataframe tbody tr th {\n",
       "        vertical-align: top;\n",
       "    }\n",
       "\n",
       "    .dataframe thead th {\n",
       "        text-align: right;\n",
       "    }\n",
       "</style>\n",
       "<table border=\"1\" class=\"dataframe\">\n",
       "  <thead>\n",
       "    <tr style=\"text-align: right;\">\n",
       "      <th></th>\n",
       "      <th>CreditScore</th>\n",
       "      <th>Geography</th>\n",
       "      <th>Gender</th>\n",
       "      <th>Age</th>\n",
       "      <th>Tenure</th>\n",
       "      <th>Balance</th>\n",
       "      <th>NumOfProducts</th>\n",
       "      <th>HasCrCard</th>\n",
       "      <th>IsActiveMember</th>\n",
       "      <th>EstimatedSalary</th>\n",
       "    </tr>\n",
       "  </thead>\n",
       "  <tbody>\n",
       "    <tr>\n",
       "      <th>0</th>\n",
       "      <td>619</td>\n",
       "      <td>France</td>\n",
       "      <td>Female</td>\n",
       "      <td>42</td>\n",
       "      <td>2</td>\n",
       "      <td>0.00</td>\n",
       "      <td>1</td>\n",
       "      <td>1</td>\n",
       "      <td>1</td>\n",
       "      <td>101348.88</td>\n",
       "    </tr>\n",
       "    <tr>\n",
       "      <th>1</th>\n",
       "      <td>608</td>\n",
       "      <td>Spain</td>\n",
       "      <td>Female</td>\n",
       "      <td>41</td>\n",
       "      <td>1</td>\n",
       "      <td>83807.86</td>\n",
       "      <td>1</td>\n",
       "      <td>0</td>\n",
       "      <td>1</td>\n",
       "      <td>112542.58</td>\n",
       "    </tr>\n",
       "    <tr>\n",
       "      <th>2</th>\n",
       "      <td>502</td>\n",
       "      <td>France</td>\n",
       "      <td>Female</td>\n",
       "      <td>42</td>\n",
       "      <td>8</td>\n",
       "      <td>159660.80</td>\n",
       "      <td>3</td>\n",
       "      <td>1</td>\n",
       "      <td>0</td>\n",
       "      <td>113931.57</td>\n",
       "    </tr>\n",
       "    <tr>\n",
       "      <th>3</th>\n",
       "      <td>699</td>\n",
       "      <td>France</td>\n",
       "      <td>Female</td>\n",
       "      <td>39</td>\n",
       "      <td>1</td>\n",
       "      <td>0.00</td>\n",
       "      <td>2</td>\n",
       "      <td>0</td>\n",
       "      <td>0</td>\n",
       "      <td>93826.63</td>\n",
       "    </tr>\n",
       "    <tr>\n",
       "      <th>4</th>\n",
       "      <td>850</td>\n",
       "      <td>Spain</td>\n",
       "      <td>Female</td>\n",
       "      <td>43</td>\n",
       "      <td>2</td>\n",
       "      <td>125510.82</td>\n",
       "      <td>1</td>\n",
       "      <td>1</td>\n",
       "      <td>1</td>\n",
       "      <td>79084.10</td>\n",
       "    </tr>\n",
       "  </tbody>\n",
       "</table>\n",
       "</div>"
      ],
      "text/plain": [
       "   CreditScore Geography  Gender  Age  Tenure    Balance  NumOfProducts  \\\n",
       "0          619    France  Female   42       2       0.00              1   \n",
       "1          608     Spain  Female   41       1   83807.86              1   \n",
       "2          502    France  Female   42       8  159660.80              3   \n",
       "3          699    France  Female   39       1       0.00              2   \n",
       "4          850     Spain  Female   43       2  125510.82              1   \n",
       "\n",
       "   HasCrCard  IsActiveMember  EstimatedSalary  \n",
       "0          1               1        101348.88  \n",
       "1          0               1        112542.58  \n",
       "2          1               0        113931.57  \n",
       "3          0               0         93826.63  \n",
       "4          1               1         79084.10  "
      ]
     },
     "execution_count": 114,
     "metadata": {},
     "output_type": "execute_result"
    }
   ],
   "source": [
    "x.head()"
   ]
  },
  {
   "cell_type": "code",
   "execution_count": 115,
   "id": "0ebb06cf-24b6-4bb0-9838-3a3a2f2cbbf6",
   "metadata": {
    "tags": []
   },
   "outputs": [
    {
     "data": {
      "text/plain": [
       "0    1\n",
       "1    0\n",
       "2    1\n",
       "3    0\n",
       "4    0\n",
       "Name: Exited, dtype: int64"
      ]
     },
     "execution_count": 115,
     "metadata": {},
     "output_type": "execute_result"
    }
   ],
   "source": [
    "y.head()"
   ]
  },
  {
   "cell_type": "code",
   "execution_count": 116,
   "id": "b730f68d-faab-4a35-b63a-bc34534b86a0",
   "metadata": {
    "tags": []
   },
   "outputs": [],
   "source": [
    "gender = pd.get_dummies(x[\"Gender\"],drop_first=True,dtype=int)"
   ]
  },
  {
   "cell_type": "code",
   "execution_count": 117,
   "id": "c6b3d292-89b5-40e8-a586-3c9b252c45b8",
   "metadata": {
    "tags": []
   },
   "outputs": [
    {
     "data": {
      "text/html": [
       "<div>\n",
       "<style scoped>\n",
       "    .dataframe tbody tr th:only-of-type {\n",
       "        vertical-align: middle;\n",
       "    }\n",
       "\n",
       "    .dataframe tbody tr th {\n",
       "        vertical-align: top;\n",
       "    }\n",
       "\n",
       "    .dataframe thead th {\n",
       "        text-align: right;\n",
       "    }\n",
       "</style>\n",
       "<table border=\"1\" class=\"dataframe\">\n",
       "  <thead>\n",
       "    <tr style=\"text-align: right;\">\n",
       "      <th></th>\n",
       "      <th>Male</th>\n",
       "    </tr>\n",
       "  </thead>\n",
       "  <tbody>\n",
       "    <tr>\n",
       "      <th>0</th>\n",
       "      <td>0</td>\n",
       "    </tr>\n",
       "    <tr>\n",
       "      <th>1</th>\n",
       "      <td>0</td>\n",
       "    </tr>\n",
       "    <tr>\n",
       "      <th>2</th>\n",
       "      <td>0</td>\n",
       "    </tr>\n",
       "    <tr>\n",
       "      <th>3</th>\n",
       "      <td>0</td>\n",
       "    </tr>\n",
       "    <tr>\n",
       "      <th>4</th>\n",
       "      <td>0</td>\n",
       "    </tr>\n",
       "    <tr>\n",
       "      <th>...</th>\n",
       "      <td>...</td>\n",
       "    </tr>\n",
       "    <tr>\n",
       "      <th>9995</th>\n",
       "      <td>1</td>\n",
       "    </tr>\n",
       "    <tr>\n",
       "      <th>9996</th>\n",
       "      <td>1</td>\n",
       "    </tr>\n",
       "    <tr>\n",
       "      <th>9997</th>\n",
       "      <td>0</td>\n",
       "    </tr>\n",
       "    <tr>\n",
       "      <th>9998</th>\n",
       "      <td>1</td>\n",
       "    </tr>\n",
       "    <tr>\n",
       "      <th>9999</th>\n",
       "      <td>0</td>\n",
       "    </tr>\n",
       "  </tbody>\n",
       "</table>\n",
       "<p>10000 rows × 1 columns</p>\n",
       "</div>"
      ],
      "text/plain": [
       "      Male\n",
       "0        0\n",
       "1        0\n",
       "2        0\n",
       "3        0\n",
       "4        0\n",
       "...    ...\n",
       "9995     1\n",
       "9996     1\n",
       "9997     0\n",
       "9998     1\n",
       "9999     0\n",
       "\n",
       "[10000 rows x 1 columns]"
      ]
     },
     "execution_count": 117,
     "metadata": {},
     "output_type": "execute_result"
    }
   ],
   "source": [
    "gender"
   ]
  },
  {
   "cell_type": "code",
   "execution_count": 118,
   "id": "74cc49b4-1828-4f30-9f22-9ec9a0781e60",
   "metadata": {
    "tags": []
   },
   "outputs": [],
   "source": [
    "geography = pd.get_dummies(x[\"Geography\"],dtype=int)"
   ]
  },
  {
   "cell_type": "code",
   "execution_count": 119,
   "id": "b7ee0613-498d-4f6c-a053-8ddea7a8b48a",
   "metadata": {
    "tags": []
   },
   "outputs": [
    {
     "data": {
      "text/html": [
       "<div>\n",
       "<style scoped>\n",
       "    .dataframe tbody tr th:only-of-type {\n",
       "        vertical-align: middle;\n",
       "    }\n",
       "\n",
       "    .dataframe tbody tr th {\n",
       "        vertical-align: top;\n",
       "    }\n",
       "\n",
       "    .dataframe thead th {\n",
       "        text-align: right;\n",
       "    }\n",
       "</style>\n",
       "<table border=\"1\" class=\"dataframe\">\n",
       "  <thead>\n",
       "    <tr style=\"text-align: right;\">\n",
       "      <th></th>\n",
       "      <th>France</th>\n",
       "      <th>Germany</th>\n",
       "      <th>Spain</th>\n",
       "    </tr>\n",
       "  </thead>\n",
       "  <tbody>\n",
       "    <tr>\n",
       "      <th>0</th>\n",
       "      <td>1</td>\n",
       "      <td>0</td>\n",
       "      <td>0</td>\n",
       "    </tr>\n",
       "    <tr>\n",
       "      <th>1</th>\n",
       "      <td>0</td>\n",
       "      <td>0</td>\n",
       "      <td>1</td>\n",
       "    </tr>\n",
       "    <tr>\n",
       "      <th>2</th>\n",
       "      <td>1</td>\n",
       "      <td>0</td>\n",
       "      <td>0</td>\n",
       "    </tr>\n",
       "    <tr>\n",
       "      <th>3</th>\n",
       "      <td>1</td>\n",
       "      <td>0</td>\n",
       "      <td>0</td>\n",
       "    </tr>\n",
       "    <tr>\n",
       "      <th>4</th>\n",
       "      <td>0</td>\n",
       "      <td>0</td>\n",
       "      <td>1</td>\n",
       "    </tr>\n",
       "    <tr>\n",
       "      <th>...</th>\n",
       "      <td>...</td>\n",
       "      <td>...</td>\n",
       "      <td>...</td>\n",
       "    </tr>\n",
       "    <tr>\n",
       "      <th>9995</th>\n",
       "      <td>1</td>\n",
       "      <td>0</td>\n",
       "      <td>0</td>\n",
       "    </tr>\n",
       "    <tr>\n",
       "      <th>9996</th>\n",
       "      <td>1</td>\n",
       "      <td>0</td>\n",
       "      <td>0</td>\n",
       "    </tr>\n",
       "    <tr>\n",
       "      <th>9997</th>\n",
       "      <td>1</td>\n",
       "      <td>0</td>\n",
       "      <td>0</td>\n",
       "    </tr>\n",
       "    <tr>\n",
       "      <th>9998</th>\n",
       "      <td>0</td>\n",
       "      <td>1</td>\n",
       "      <td>0</td>\n",
       "    </tr>\n",
       "    <tr>\n",
       "      <th>9999</th>\n",
       "      <td>1</td>\n",
       "      <td>0</td>\n",
       "      <td>0</td>\n",
       "    </tr>\n",
       "  </tbody>\n",
       "</table>\n",
       "<p>10000 rows × 3 columns</p>\n",
       "</div>"
      ],
      "text/plain": [
       "      France  Germany  Spain\n",
       "0          1        0      0\n",
       "1          0        0      1\n",
       "2          1        0      0\n",
       "3          1        0      0\n",
       "4          0        0      1\n",
       "...      ...      ...    ...\n",
       "9995       1        0      0\n",
       "9996       1        0      0\n",
       "9997       1        0      0\n",
       "9998       0        1      0\n",
       "9999       1        0      0\n",
       "\n",
       "[10000 rows x 3 columns]"
      ]
     },
     "execution_count": 119,
     "metadata": {},
     "output_type": "execute_result"
    }
   ],
   "source": [
    "geography"
   ]
  },
  {
   "cell_type": "code",
   "execution_count": 120,
   "id": "2c207491-29b1-4c3f-8144-6c5ce5f7276e",
   "metadata": {
    "tags": []
   },
   "outputs": [],
   "source": [
    "x = pd.concat([x,gender,geography],axis=1)"
   ]
  },
  {
   "cell_type": "code",
   "execution_count": 121,
   "id": "dd3ecbbb-f177-44b9-b0af-170b3ad170d0",
   "metadata": {
    "tags": []
   },
   "outputs": [
    {
     "data": {
      "text/html": [
       "<div>\n",
       "<style scoped>\n",
       "    .dataframe tbody tr th:only-of-type {\n",
       "        vertical-align: middle;\n",
       "    }\n",
       "\n",
       "    .dataframe tbody tr th {\n",
       "        vertical-align: top;\n",
       "    }\n",
       "\n",
       "    .dataframe thead th {\n",
       "        text-align: right;\n",
       "    }\n",
       "</style>\n",
       "<table border=\"1\" class=\"dataframe\">\n",
       "  <thead>\n",
       "    <tr style=\"text-align: right;\">\n",
       "      <th></th>\n",
       "      <th>CreditScore</th>\n",
       "      <th>Geography</th>\n",
       "      <th>Gender</th>\n",
       "      <th>Age</th>\n",
       "      <th>Tenure</th>\n",
       "      <th>Balance</th>\n",
       "      <th>NumOfProducts</th>\n",
       "      <th>HasCrCard</th>\n",
       "      <th>IsActiveMember</th>\n",
       "      <th>EstimatedSalary</th>\n",
       "      <th>Male</th>\n",
       "      <th>France</th>\n",
       "      <th>Germany</th>\n",
       "      <th>Spain</th>\n",
       "    </tr>\n",
       "  </thead>\n",
       "  <tbody>\n",
       "    <tr>\n",
       "      <th>0</th>\n",
       "      <td>619</td>\n",
       "      <td>France</td>\n",
       "      <td>Female</td>\n",
       "      <td>42</td>\n",
       "      <td>2</td>\n",
       "      <td>0.00</td>\n",
       "      <td>1</td>\n",
       "      <td>1</td>\n",
       "      <td>1</td>\n",
       "      <td>101348.88</td>\n",
       "      <td>0</td>\n",
       "      <td>1</td>\n",
       "      <td>0</td>\n",
       "      <td>0</td>\n",
       "    </tr>\n",
       "    <tr>\n",
       "      <th>1</th>\n",
       "      <td>608</td>\n",
       "      <td>Spain</td>\n",
       "      <td>Female</td>\n",
       "      <td>41</td>\n",
       "      <td>1</td>\n",
       "      <td>83807.86</td>\n",
       "      <td>1</td>\n",
       "      <td>0</td>\n",
       "      <td>1</td>\n",
       "      <td>112542.58</td>\n",
       "      <td>0</td>\n",
       "      <td>0</td>\n",
       "      <td>0</td>\n",
       "      <td>1</td>\n",
       "    </tr>\n",
       "    <tr>\n",
       "      <th>2</th>\n",
       "      <td>502</td>\n",
       "      <td>France</td>\n",
       "      <td>Female</td>\n",
       "      <td>42</td>\n",
       "      <td>8</td>\n",
       "      <td>159660.80</td>\n",
       "      <td>3</td>\n",
       "      <td>1</td>\n",
       "      <td>0</td>\n",
       "      <td>113931.57</td>\n",
       "      <td>0</td>\n",
       "      <td>1</td>\n",
       "      <td>0</td>\n",
       "      <td>0</td>\n",
       "    </tr>\n",
       "    <tr>\n",
       "      <th>3</th>\n",
       "      <td>699</td>\n",
       "      <td>France</td>\n",
       "      <td>Female</td>\n",
       "      <td>39</td>\n",
       "      <td>1</td>\n",
       "      <td>0.00</td>\n",
       "      <td>2</td>\n",
       "      <td>0</td>\n",
       "      <td>0</td>\n",
       "      <td>93826.63</td>\n",
       "      <td>0</td>\n",
       "      <td>1</td>\n",
       "      <td>0</td>\n",
       "      <td>0</td>\n",
       "    </tr>\n",
       "    <tr>\n",
       "      <th>4</th>\n",
       "      <td>850</td>\n",
       "      <td>Spain</td>\n",
       "      <td>Female</td>\n",
       "      <td>43</td>\n",
       "      <td>2</td>\n",
       "      <td>125510.82</td>\n",
       "      <td>1</td>\n",
       "      <td>1</td>\n",
       "      <td>1</td>\n",
       "      <td>79084.10</td>\n",
       "      <td>0</td>\n",
       "      <td>0</td>\n",
       "      <td>0</td>\n",
       "      <td>1</td>\n",
       "    </tr>\n",
       "    <tr>\n",
       "      <th>...</th>\n",
       "      <td>...</td>\n",
       "      <td>...</td>\n",
       "      <td>...</td>\n",
       "      <td>...</td>\n",
       "      <td>...</td>\n",
       "      <td>...</td>\n",
       "      <td>...</td>\n",
       "      <td>...</td>\n",
       "      <td>...</td>\n",
       "      <td>...</td>\n",
       "      <td>...</td>\n",
       "      <td>...</td>\n",
       "      <td>...</td>\n",
       "      <td>...</td>\n",
       "    </tr>\n",
       "    <tr>\n",
       "      <th>9995</th>\n",
       "      <td>771</td>\n",
       "      <td>France</td>\n",
       "      <td>Male</td>\n",
       "      <td>39</td>\n",
       "      <td>5</td>\n",
       "      <td>0.00</td>\n",
       "      <td>2</td>\n",
       "      <td>1</td>\n",
       "      <td>0</td>\n",
       "      <td>96270.64</td>\n",
       "      <td>1</td>\n",
       "      <td>1</td>\n",
       "      <td>0</td>\n",
       "      <td>0</td>\n",
       "    </tr>\n",
       "    <tr>\n",
       "      <th>9996</th>\n",
       "      <td>516</td>\n",
       "      <td>France</td>\n",
       "      <td>Male</td>\n",
       "      <td>35</td>\n",
       "      <td>10</td>\n",
       "      <td>57369.61</td>\n",
       "      <td>1</td>\n",
       "      <td>1</td>\n",
       "      <td>1</td>\n",
       "      <td>101699.77</td>\n",
       "      <td>1</td>\n",
       "      <td>1</td>\n",
       "      <td>0</td>\n",
       "      <td>0</td>\n",
       "    </tr>\n",
       "    <tr>\n",
       "      <th>9997</th>\n",
       "      <td>709</td>\n",
       "      <td>France</td>\n",
       "      <td>Female</td>\n",
       "      <td>36</td>\n",
       "      <td>7</td>\n",
       "      <td>0.00</td>\n",
       "      <td>1</td>\n",
       "      <td>0</td>\n",
       "      <td>1</td>\n",
       "      <td>42085.58</td>\n",
       "      <td>0</td>\n",
       "      <td>1</td>\n",
       "      <td>0</td>\n",
       "      <td>0</td>\n",
       "    </tr>\n",
       "    <tr>\n",
       "      <th>9998</th>\n",
       "      <td>772</td>\n",
       "      <td>Germany</td>\n",
       "      <td>Male</td>\n",
       "      <td>42</td>\n",
       "      <td>3</td>\n",
       "      <td>75075.31</td>\n",
       "      <td>2</td>\n",
       "      <td>1</td>\n",
       "      <td>0</td>\n",
       "      <td>92888.52</td>\n",
       "      <td>1</td>\n",
       "      <td>0</td>\n",
       "      <td>1</td>\n",
       "      <td>0</td>\n",
       "    </tr>\n",
       "    <tr>\n",
       "      <th>9999</th>\n",
       "      <td>792</td>\n",
       "      <td>France</td>\n",
       "      <td>Female</td>\n",
       "      <td>28</td>\n",
       "      <td>4</td>\n",
       "      <td>130142.79</td>\n",
       "      <td>1</td>\n",
       "      <td>1</td>\n",
       "      <td>0</td>\n",
       "      <td>38190.78</td>\n",
       "      <td>0</td>\n",
       "      <td>1</td>\n",
       "      <td>0</td>\n",
       "      <td>0</td>\n",
       "    </tr>\n",
       "  </tbody>\n",
       "</table>\n",
       "<p>10000 rows × 14 columns</p>\n",
       "</div>"
      ],
      "text/plain": [
       "      CreditScore Geography  Gender  Age  Tenure    Balance  NumOfProducts  \\\n",
       "0             619    France  Female   42       2       0.00              1   \n",
       "1             608     Spain  Female   41       1   83807.86              1   \n",
       "2             502    France  Female   42       8  159660.80              3   \n",
       "3             699    France  Female   39       1       0.00              2   \n",
       "4             850     Spain  Female   43       2  125510.82              1   \n",
       "...           ...       ...     ...  ...     ...        ...            ...   \n",
       "9995          771    France    Male   39       5       0.00              2   \n",
       "9996          516    France    Male   35      10   57369.61              1   \n",
       "9997          709    France  Female   36       7       0.00              1   \n",
       "9998          772   Germany    Male   42       3   75075.31              2   \n",
       "9999          792    France  Female   28       4  130142.79              1   \n",
       "\n",
       "      HasCrCard  IsActiveMember  EstimatedSalary  Male  France  Germany  Spain  \n",
       "0             1               1        101348.88     0       1        0      0  \n",
       "1             0               1        112542.58     0       0        0      1  \n",
       "2             1               0        113931.57     0       1        0      0  \n",
       "3             0               0         93826.63     0       1        0      0  \n",
       "4             1               1         79084.10     0       0        0      1  \n",
       "...         ...             ...              ...   ...     ...      ...    ...  \n",
       "9995          1               0         96270.64     1       1        0      0  \n",
       "9996          1               1        101699.77     1       1        0      0  \n",
       "9997          0               1         42085.58     0       1        0      0  \n",
       "9998          1               0         92888.52     1       0        1      0  \n",
       "9999          1               0         38190.78     0       1        0      0  \n",
       "\n",
       "[10000 rows x 14 columns]"
      ]
     },
     "execution_count": 121,
     "metadata": {},
     "output_type": "execute_result"
    }
   ],
   "source": [
    "x"
   ]
  },
  {
   "cell_type": "code",
   "execution_count": 122,
   "id": "70d473e1-36ae-4a23-bd43-6632ab055e37",
   "metadata": {
    "tags": []
   },
   "outputs": [],
   "source": [
    "x = x.drop([\"Gender\",\"Geography\"],axis=1)"
   ]
  },
  {
   "cell_type": "code",
   "execution_count": 123,
   "id": "006021e5-dfb4-442e-9dbf-6e0253ef1d0e",
   "metadata": {
    "tags": []
   },
   "outputs": [
    {
     "data": {
      "text/plain": [
       "(10000, 12)"
      ]
     },
     "execution_count": 123,
     "metadata": {},
     "output_type": "execute_result"
    }
   ],
   "source": [
    "x.shape"
   ]
  },
  {
   "cell_type": "code",
   "execution_count": 124,
   "id": "d89fa8a6-34cc-44d0-99dc-a5dbdc382608",
   "metadata": {
    "tags": []
   },
   "outputs": [
    {
     "data": {
      "text/html": [
       "<div>\n",
       "<style scoped>\n",
       "    .dataframe tbody tr th:only-of-type {\n",
       "        vertical-align: middle;\n",
       "    }\n",
       "\n",
       "    .dataframe tbody tr th {\n",
       "        vertical-align: top;\n",
       "    }\n",
       "\n",
       "    .dataframe thead th {\n",
       "        text-align: right;\n",
       "    }\n",
       "</style>\n",
       "<table border=\"1\" class=\"dataframe\">\n",
       "  <thead>\n",
       "    <tr style=\"text-align: right;\">\n",
       "      <th></th>\n",
       "      <th>CreditScore</th>\n",
       "      <th>Age</th>\n",
       "      <th>Tenure</th>\n",
       "      <th>Balance</th>\n",
       "      <th>NumOfProducts</th>\n",
       "      <th>HasCrCard</th>\n",
       "      <th>IsActiveMember</th>\n",
       "      <th>EstimatedSalary</th>\n",
       "      <th>Male</th>\n",
       "      <th>France</th>\n",
       "      <th>Germany</th>\n",
       "      <th>Spain</th>\n",
       "    </tr>\n",
       "  </thead>\n",
       "  <tbody>\n",
       "    <tr>\n",
       "      <th>0</th>\n",
       "      <td>619</td>\n",
       "      <td>42</td>\n",
       "      <td>2</td>\n",
       "      <td>0.00</td>\n",
       "      <td>1</td>\n",
       "      <td>1</td>\n",
       "      <td>1</td>\n",
       "      <td>101348.88</td>\n",
       "      <td>0</td>\n",
       "      <td>1</td>\n",
       "      <td>0</td>\n",
       "      <td>0</td>\n",
       "    </tr>\n",
       "    <tr>\n",
       "      <th>1</th>\n",
       "      <td>608</td>\n",
       "      <td>41</td>\n",
       "      <td>1</td>\n",
       "      <td>83807.86</td>\n",
       "      <td>1</td>\n",
       "      <td>0</td>\n",
       "      <td>1</td>\n",
       "      <td>112542.58</td>\n",
       "      <td>0</td>\n",
       "      <td>0</td>\n",
       "      <td>0</td>\n",
       "      <td>1</td>\n",
       "    </tr>\n",
       "    <tr>\n",
       "      <th>2</th>\n",
       "      <td>502</td>\n",
       "      <td>42</td>\n",
       "      <td>8</td>\n",
       "      <td>159660.80</td>\n",
       "      <td>3</td>\n",
       "      <td>1</td>\n",
       "      <td>0</td>\n",
       "      <td>113931.57</td>\n",
       "      <td>0</td>\n",
       "      <td>1</td>\n",
       "      <td>0</td>\n",
       "      <td>0</td>\n",
       "    </tr>\n",
       "    <tr>\n",
       "      <th>3</th>\n",
       "      <td>699</td>\n",
       "      <td>39</td>\n",
       "      <td>1</td>\n",
       "      <td>0.00</td>\n",
       "      <td>2</td>\n",
       "      <td>0</td>\n",
       "      <td>0</td>\n",
       "      <td>93826.63</td>\n",
       "      <td>0</td>\n",
       "      <td>1</td>\n",
       "      <td>0</td>\n",
       "      <td>0</td>\n",
       "    </tr>\n",
       "    <tr>\n",
       "      <th>4</th>\n",
       "      <td>850</td>\n",
       "      <td>43</td>\n",
       "      <td>2</td>\n",
       "      <td>125510.82</td>\n",
       "      <td>1</td>\n",
       "      <td>1</td>\n",
       "      <td>1</td>\n",
       "      <td>79084.10</td>\n",
       "      <td>0</td>\n",
       "      <td>0</td>\n",
       "      <td>0</td>\n",
       "      <td>1</td>\n",
       "    </tr>\n",
       "    <tr>\n",
       "      <th>...</th>\n",
       "      <td>...</td>\n",
       "      <td>...</td>\n",
       "      <td>...</td>\n",
       "      <td>...</td>\n",
       "      <td>...</td>\n",
       "      <td>...</td>\n",
       "      <td>...</td>\n",
       "      <td>...</td>\n",
       "      <td>...</td>\n",
       "      <td>...</td>\n",
       "      <td>...</td>\n",
       "      <td>...</td>\n",
       "    </tr>\n",
       "    <tr>\n",
       "      <th>9995</th>\n",
       "      <td>771</td>\n",
       "      <td>39</td>\n",
       "      <td>5</td>\n",
       "      <td>0.00</td>\n",
       "      <td>2</td>\n",
       "      <td>1</td>\n",
       "      <td>0</td>\n",
       "      <td>96270.64</td>\n",
       "      <td>1</td>\n",
       "      <td>1</td>\n",
       "      <td>0</td>\n",
       "      <td>0</td>\n",
       "    </tr>\n",
       "    <tr>\n",
       "      <th>9996</th>\n",
       "      <td>516</td>\n",
       "      <td>35</td>\n",
       "      <td>10</td>\n",
       "      <td>57369.61</td>\n",
       "      <td>1</td>\n",
       "      <td>1</td>\n",
       "      <td>1</td>\n",
       "      <td>101699.77</td>\n",
       "      <td>1</td>\n",
       "      <td>1</td>\n",
       "      <td>0</td>\n",
       "      <td>0</td>\n",
       "    </tr>\n",
       "    <tr>\n",
       "      <th>9997</th>\n",
       "      <td>709</td>\n",
       "      <td>36</td>\n",
       "      <td>7</td>\n",
       "      <td>0.00</td>\n",
       "      <td>1</td>\n",
       "      <td>0</td>\n",
       "      <td>1</td>\n",
       "      <td>42085.58</td>\n",
       "      <td>0</td>\n",
       "      <td>1</td>\n",
       "      <td>0</td>\n",
       "      <td>0</td>\n",
       "    </tr>\n",
       "    <tr>\n",
       "      <th>9998</th>\n",
       "      <td>772</td>\n",
       "      <td>42</td>\n",
       "      <td>3</td>\n",
       "      <td>75075.31</td>\n",
       "      <td>2</td>\n",
       "      <td>1</td>\n",
       "      <td>0</td>\n",
       "      <td>92888.52</td>\n",
       "      <td>1</td>\n",
       "      <td>0</td>\n",
       "      <td>1</td>\n",
       "      <td>0</td>\n",
       "    </tr>\n",
       "    <tr>\n",
       "      <th>9999</th>\n",
       "      <td>792</td>\n",
       "      <td>28</td>\n",
       "      <td>4</td>\n",
       "      <td>130142.79</td>\n",
       "      <td>1</td>\n",
       "      <td>1</td>\n",
       "      <td>0</td>\n",
       "      <td>38190.78</td>\n",
       "      <td>0</td>\n",
       "      <td>1</td>\n",
       "      <td>0</td>\n",
       "      <td>0</td>\n",
       "    </tr>\n",
       "  </tbody>\n",
       "</table>\n",
       "<p>10000 rows × 12 columns</p>\n",
       "</div>"
      ],
      "text/plain": [
       "      CreditScore  Age  Tenure    Balance  NumOfProducts  HasCrCard  \\\n",
       "0             619   42       2       0.00              1          1   \n",
       "1             608   41       1   83807.86              1          0   \n",
       "2             502   42       8  159660.80              3          1   \n",
       "3             699   39       1       0.00              2          0   \n",
       "4             850   43       2  125510.82              1          1   \n",
       "...           ...  ...     ...        ...            ...        ...   \n",
       "9995          771   39       5       0.00              2          1   \n",
       "9996          516   35      10   57369.61              1          1   \n",
       "9997          709   36       7       0.00              1          0   \n",
       "9998          772   42       3   75075.31              2          1   \n",
       "9999          792   28       4  130142.79              1          1   \n",
       "\n",
       "      IsActiveMember  EstimatedSalary  Male  France  Germany  Spain  \n",
       "0                  1        101348.88     0       1        0      0  \n",
       "1                  1        112542.58     0       0        0      1  \n",
       "2                  0        113931.57     0       1        0      0  \n",
       "3                  0         93826.63     0       1        0      0  \n",
       "4                  1         79084.10     0       0        0      1  \n",
       "...              ...              ...   ...     ...      ...    ...  \n",
       "9995               0         96270.64     1       1        0      0  \n",
       "9996               1        101699.77     1       1        0      0  \n",
       "9997               1         42085.58     0       1        0      0  \n",
       "9998               0         92888.52     1       0        1      0  \n",
       "9999               0         38190.78     0       1        0      0  \n",
       "\n",
       "[10000 rows x 12 columns]"
      ]
     },
     "execution_count": 124,
     "metadata": {},
     "output_type": "execute_result"
    }
   ],
   "source": [
    "x"
   ]
  },
  {
   "cell_type": "code",
   "execution_count": 125,
   "id": "9168c5a8-1820-404e-a72e-109f2a62dde5",
   "metadata": {
    "tags": []
   },
   "outputs": [],
   "source": [
    "from sklearn.model_selection import train_test_split"
   ]
  },
  {
   "cell_type": "code",
   "execution_count": 126,
   "id": "301fc6e4-7010-405c-b46a-8f6fe271aecd",
   "metadata": {
    "tags": []
   },
   "outputs": [],
   "source": [
    "x_train,x_test,y_train,y_test = train_test_split(x,y,test_size=0.2,random_state=2)\n",
    "from sklearn.preprocessing import StandardScaler\n",
    "sc = StandardScaler()"
   ]
  },
  {
   "cell_type": "code",
   "execution_count": 127,
   "id": "1ab44d8b-9f9b-4d07-b837-92db3d897c8c",
   "metadata": {
    "tags": []
   },
   "outputs": [],
   "source": [
    "x_train= sc.fit_transform(x_train)\n",
    "x_test = sc.fit_transform(x_test)"
   ]
  },
  {
   "cell_type": "code",
   "execution_count": 128,
   "id": "229e73aa-ae5f-4f37-a747-2a75a2a0e039",
   "metadata": {
    "tags": []
   },
   "outputs": [],
   "source": [
    "import tensorflow as tf\n",
    "tf.random.set_seed(10)\n",
    "from tensorflow import keras\n",
    "#Do the other method as well"
   ]
  },
  {
   "cell_type": "code",
   "execution_count": 129,
   "id": "21f5bec2-7733-4b7b-8086-a9f911c6a5db",
   "metadata": {
    "tags": []
   },
   "outputs": [
    {
     "data": {
      "text/plain": [
       "(8000, 12)"
      ]
     },
     "execution_count": 129,
     "metadata": {},
     "output_type": "execute_result"
    }
   ],
   "source": [
    "import keras\n",
    "x_train.shape"
   ]
  },
  {
   "cell_type": "code",
   "execution_count": 130,
   "id": "8d14b08b-df0d-4447-a420-1bee5faa77ec",
   "metadata": {
    "tags": []
   },
   "outputs": [],
   "source": [
    "from keras.models import Sequential\n",
    "from keras.layers import Dense"
   ]
  },
  {
   "cell_type": "code",
   "execution_count": 131,
   "id": "2667cf36-1ac2-4d0a-8c5f-02891556dbad",
   "metadata": {
    "tags": []
   },
   "outputs": [],
   "source": [
    "model = Sequential()"
   ]
  },
  {
   "cell_type": "code",
   "execution_count": 132,
   "id": "bcd76bfc-e1cb-41b5-8000-4ec33213fe2b",
   "metadata": {
    "tags": []
   },
   "outputs": [],
   "source": [
    "model.add(Dense(6,activation=\"relu\",kernel_initializer=\"he_uniform\",input_dim=12))"
   ]
  },
  {
   "cell_type": "code",
   "execution_count": 133,
   "id": "d6a0dd8b-d47d-49cc-9c3c-e5f70c9549f8",
   "metadata": {
    "tags": []
   },
   "outputs": [],
   "source": [
    "model.add(Dense(6,activation=\"relu\",kernel_initializer=\"he_uniform\"))"
   ]
  },
  {
   "cell_type": "code",
   "execution_count": 134,
   "id": "6ab2479a-2d4a-4070-b696-2a94f13eac42",
   "metadata": {
    "tags": []
   },
   "outputs": [],
   "source": [
    "model.add(Dense(1,kernel_initializer=\"glorot_uniform\",activation=\"relu\"))\n",
    "model.compile(optimizer='adam',\n",
    "              loss=\"binary_crossentropy\",\n",
    "              metrics=['accuracy'])"
   ]
  },
  {
   "cell_type": "code",
   "execution_count": 135,
   "id": "e2addc07-cb79-4424-bbd8-2e944f45871c",
   "metadata": {
    "tags": []
   },
   "outputs": [
    {
     "name": "stdout",
     "output_type": "stream",
     "text": [
      "Epoch 1/10\n",
      "536/536 [==============================] - 2s 2ms/step - loss: 2.6684 - accuracy: 0.7897 - val_loss: 2.1309 - val_accuracy: 0.8005\n",
      "Epoch 2/10\n",
      "536/536 [==============================] - 1s 2ms/step - loss: 1.8282 - accuracy: 0.7845 - val_loss: 1.4058 - val_accuracy: 0.7887\n",
      "Epoch 3/10\n",
      "536/536 [==============================] - 1s 2ms/step - loss: 1.3961 - accuracy: 0.7837 - val_loss: 1.2358 - val_accuracy: 0.7967\n",
      "Epoch 4/10\n",
      "536/536 [==============================] - 1s 2ms/step - loss: 1.2538 - accuracy: 0.7862 - val_loss: 1.1148 - val_accuracy: 0.7880\n",
      "Epoch 5/10\n",
      "536/536 [==============================] - 1s 2ms/step - loss: 1.0955 - accuracy: 0.7794 - val_loss: 1.0330 - val_accuracy: 0.7952\n",
      "Epoch 6/10\n",
      "536/536 [==============================] - 1s 2ms/step - loss: 0.9651 - accuracy: 0.7800 - val_loss: 0.7943 - val_accuracy: 0.7846\n",
      "Epoch 7/10\n",
      "536/536 [==============================] - 1s 2ms/step - loss: 0.8166 - accuracy: 0.7776 - val_loss: 0.7567 - val_accuracy: 0.7936\n",
      "Epoch 8/10\n",
      "536/536 [==============================] - 1s 2ms/step - loss: 0.7597 - accuracy: 0.7783 - val_loss: 0.6871 - val_accuracy: 0.7891\n",
      "Epoch 9/10\n",
      "536/536 [==============================] - 1s 2ms/step - loss: 0.8550 - accuracy: 0.7890 - val_loss: 0.5665 - val_accuracy: 0.7819\n",
      "Epoch 10/10\n",
      "536/536 [==============================] - 1s 2ms/step - loss: 0.6108 - accuracy: 0.7774 - val_loss: 0.5646 - val_accuracy: 0.7993\n"
     ]
    }
   ],
   "source": [
    "model_history = model.fit(x_train,y_train,validation_split=0.33,batch_size=10,epochs=10)"
   ]
  },
  {
   "cell_type": "code",
   "execution_count": 94,
   "id": "66eb60e5-9aad-49c3-9eff-1f036921dccd",
   "metadata": {
    "tags": []
   },
   "outputs": [],
   "source": [
    "# my method better \n"
   ]
  },
  {
   "cell_type": "code",
   "execution_count": 104,
   "id": "ab1bbc8f-9ed4-4acf-bebc-10e502302d04",
   "metadata": {
    "tags": []
   },
   "outputs": [],
   "source": [
    "model2 = keras.Sequential([\n",
    "            keras.layers.Flatten(input_shape=(12,)),\n",
    "            keras.layers.Dense(6,activation='relu',kernel_initializer=\"he_uniform\"),\n",
    "            keras.layers.Dense(6, activation='relu',kernel_initializer=\"he_uniform\"),\n",
    "            keras.layers.Dense(1,activation='sigmoid',kernel_initializer=\"glorot_uniform\")\n",
    "])"
   ]
  },
  {
   "cell_type": "code",
   "execution_count": 105,
   "id": "5b80c682-3d59-4460-b1d0-bbf9c3e91739",
   "metadata": {
    "tags": []
   },
   "outputs": [],
   "source": [
    "model2.compile(optimizer='adam',\n",
    "              loss=\"binary_crossentropy\",\n",
    "              metrics=['accuracy'])"
   ]
  },
  {
   "cell_type": "code",
   "execution_count": 107,
   "id": "0d82e69d-ec7a-4718-8069-da2c905e6fab",
   "metadata": {
    "tags": []
   },
   "outputs": [
    {
     "name": "stdout",
     "output_type": "stream",
     "text": [
      "Epoch 1/50\n",
      "225/225 [==============================] - 0s 1ms/step - loss: 0.3774 - accuracy: 0.8328 - val_loss: 0.3330 - val_accuracy: 0.8450\n",
      "Epoch 2/50\n",
      "225/225 [==============================] - 0s 1ms/step - loss: 0.3737 - accuracy: 0.8400 - val_loss: 0.3314 - val_accuracy: 0.8562\n",
      "Epoch 3/50\n",
      "225/225 [==============================] - 0s 1ms/step - loss: 0.3708 - accuracy: 0.8443 - val_loss: 0.3284 - val_accuracy: 0.8562\n",
      "Epoch 4/50\n",
      "225/225 [==============================] - 0s 1ms/step - loss: 0.3674 - accuracy: 0.8489 - val_loss: 0.3257 - val_accuracy: 0.8550\n",
      "Epoch 5/50\n",
      "225/225 [==============================] - 0s 1ms/step - loss: 0.3640 - accuracy: 0.8514 - val_loss: 0.3245 - val_accuracy: 0.8575\n",
      "Epoch 6/50\n",
      "225/225 [==============================] - 0s 1ms/step - loss: 0.3609 - accuracy: 0.8525 - val_loss: 0.3232 - val_accuracy: 0.8537\n",
      "Epoch 7/50\n",
      "225/225 [==============================] - 0s 1ms/step - loss: 0.3586 - accuracy: 0.8532 - val_loss: 0.3204 - val_accuracy: 0.8637\n",
      "Epoch 8/50\n",
      "225/225 [==============================] - 0s 1ms/step - loss: 0.3559 - accuracy: 0.8554 - val_loss: 0.3218 - val_accuracy: 0.8625\n",
      "Epoch 9/50\n",
      "225/225 [==============================] - 0s 1ms/step - loss: 0.3538 - accuracy: 0.8574 - val_loss: 0.3185 - val_accuracy: 0.8625\n",
      "Epoch 10/50\n",
      "225/225 [==============================] - 0s 1ms/step - loss: 0.3516 - accuracy: 0.8579 - val_loss: 0.3184 - val_accuracy: 0.8625\n",
      "Epoch 11/50\n",
      "225/225 [==============================] - 0s 1ms/step - loss: 0.3502 - accuracy: 0.8586 - val_loss: 0.3178 - val_accuracy: 0.8612\n",
      "Epoch 12/50\n",
      "225/225 [==============================] - 0s 1ms/step - loss: 0.3484 - accuracy: 0.8568 - val_loss: 0.3165 - val_accuracy: 0.8637\n",
      "Epoch 13/50\n",
      "225/225 [==============================] - 0s 1ms/step - loss: 0.3473 - accuracy: 0.8585 - val_loss: 0.3165 - val_accuracy: 0.8637\n",
      "Epoch 14/50\n",
      "225/225 [==============================] - 0s 1ms/step - loss: 0.3460 - accuracy: 0.8596 - val_loss: 0.3164 - val_accuracy: 0.8650\n",
      "Epoch 15/50\n",
      "225/225 [==============================] - 0s 1ms/step - loss: 0.3452 - accuracy: 0.8583 - val_loss: 0.3148 - val_accuracy: 0.8637\n",
      "Epoch 16/50\n",
      "225/225 [==============================] - 0s 1ms/step - loss: 0.3444 - accuracy: 0.8596 - val_loss: 0.3145 - val_accuracy: 0.8625\n",
      "Epoch 17/50\n",
      "225/225 [==============================] - 0s 1ms/step - loss: 0.3439 - accuracy: 0.8589 - val_loss: 0.3136 - val_accuracy: 0.8625\n",
      "Epoch 18/50\n",
      "225/225 [==============================] - 0s 1ms/step - loss: 0.3426 - accuracy: 0.8599 - val_loss: 0.3126 - val_accuracy: 0.8650\n",
      "Epoch 19/50\n",
      "225/225 [==============================] - 0s 1ms/step - loss: 0.3422 - accuracy: 0.8597 - val_loss: 0.3141 - val_accuracy: 0.8625\n",
      "Epoch 20/50\n",
      "225/225 [==============================] - 0s 1ms/step - loss: 0.3415 - accuracy: 0.8594 - val_loss: 0.3158 - val_accuracy: 0.8587\n",
      "Epoch 21/50\n",
      "225/225 [==============================] - 0s 1ms/step - loss: 0.3409 - accuracy: 0.8608 - val_loss: 0.3146 - val_accuracy: 0.8650\n",
      "Epoch 22/50\n",
      "225/225 [==============================] - 0s 1ms/step - loss: 0.3411 - accuracy: 0.8608 - val_loss: 0.3111 - val_accuracy: 0.8662\n",
      "Epoch 23/50\n",
      "225/225 [==============================] - 0s 1ms/step - loss: 0.3406 - accuracy: 0.8596 - val_loss: 0.3115 - val_accuracy: 0.8675\n",
      "Epoch 24/50\n",
      "225/225 [==============================] - 0s 1ms/step - loss: 0.3404 - accuracy: 0.8599 - val_loss: 0.3119 - val_accuracy: 0.8650\n",
      "Epoch 25/50\n",
      "225/225 [==============================] - 0s 1ms/step - loss: 0.3400 - accuracy: 0.8603 - val_loss: 0.3108 - val_accuracy: 0.8712\n",
      "Epoch 26/50\n",
      "225/225 [==============================] - 0s 1ms/step - loss: 0.3397 - accuracy: 0.8615 - val_loss: 0.3110 - val_accuracy: 0.8675\n",
      "Epoch 27/50\n",
      "225/225 [==============================] - 0s 1ms/step - loss: 0.3394 - accuracy: 0.8607 - val_loss: 0.3116 - val_accuracy: 0.8700\n",
      "Epoch 28/50\n",
      "225/225 [==============================] - 0s 1ms/step - loss: 0.3393 - accuracy: 0.8603 - val_loss: 0.3106 - val_accuracy: 0.8750\n",
      "Epoch 29/50\n",
      "225/225 [==============================] - 0s 1ms/step - loss: 0.3384 - accuracy: 0.8611 - val_loss: 0.3105 - val_accuracy: 0.8687\n",
      "Epoch 30/50\n",
      "225/225 [==============================] - 0s 1ms/step - loss: 0.3381 - accuracy: 0.8606 - val_loss: 0.3101 - val_accuracy: 0.8725\n",
      "Epoch 31/50\n",
      "225/225 [==============================] - 0s 1ms/step - loss: 0.3384 - accuracy: 0.8614 - val_loss: 0.3119 - val_accuracy: 0.8650\n",
      "Epoch 32/50\n",
      "225/225 [==============================] - 0s 1ms/step - loss: 0.3376 - accuracy: 0.8596 - val_loss: 0.3129 - val_accuracy: 0.8700\n",
      "Epoch 33/50\n",
      "225/225 [==============================] - 0s 1ms/step - loss: 0.3378 - accuracy: 0.8611 - val_loss: 0.3094 - val_accuracy: 0.8700\n",
      "Epoch 34/50\n",
      "225/225 [==============================] - 0s 1ms/step - loss: 0.3378 - accuracy: 0.8615 - val_loss: 0.3083 - val_accuracy: 0.8725\n",
      "Epoch 35/50\n",
      "225/225 [==============================] - 0s 1ms/step - loss: 0.3370 - accuracy: 0.8617 - val_loss: 0.3085 - val_accuracy: 0.8712\n",
      "Epoch 36/50\n",
      "225/225 [==============================] - 0s 1ms/step - loss: 0.3373 - accuracy: 0.8601 - val_loss: 0.3105 - val_accuracy: 0.8737\n",
      "Epoch 37/50\n",
      "225/225 [==============================] - 0s 1ms/step - loss: 0.3370 - accuracy: 0.8593 - val_loss: 0.3087 - val_accuracy: 0.8712\n",
      "Epoch 38/50\n",
      "225/225 [==============================] - 0s 1ms/step - loss: 0.3374 - accuracy: 0.8624 - val_loss: 0.3087 - val_accuracy: 0.8712\n",
      "Epoch 39/50\n",
      "225/225 [==============================] - 0s 1ms/step - loss: 0.3370 - accuracy: 0.8628 - val_loss: 0.3092 - val_accuracy: 0.8712\n",
      "Epoch 40/50\n",
      "225/225 [==============================] - 0s 1ms/step - loss: 0.3365 - accuracy: 0.8606 - val_loss: 0.3095 - val_accuracy: 0.8712\n",
      "Epoch 41/50\n",
      "225/225 [==============================] - 0s 1ms/step - loss: 0.3363 - accuracy: 0.8617 - val_loss: 0.3109 - val_accuracy: 0.8675\n",
      "Epoch 42/50\n",
      "225/225 [==============================] - 0s 1ms/step - loss: 0.3364 - accuracy: 0.8608 - val_loss: 0.3097 - val_accuracy: 0.8687\n",
      "Epoch 43/50\n",
      "225/225 [==============================] - 0s 1ms/step - loss: 0.3366 - accuracy: 0.8628 - val_loss: 0.3111 - val_accuracy: 0.8650\n",
      "Epoch 44/50\n",
      "225/225 [==============================] - 0s 1ms/step - loss: 0.3361 - accuracy: 0.8612 - val_loss: 0.3100 - val_accuracy: 0.8662\n",
      "Epoch 45/50\n",
      "225/225 [==============================] - 0s 1ms/step - loss: 0.3365 - accuracy: 0.8625 - val_loss: 0.3082 - val_accuracy: 0.8712\n",
      "Epoch 46/50\n",
      "225/225 [==============================] - 0s 1ms/step - loss: 0.3358 - accuracy: 0.8615 - val_loss: 0.3072 - val_accuracy: 0.8725\n",
      "Epoch 47/50\n",
      "225/225 [==============================] - 0s 1ms/step - loss: 0.3356 - accuracy: 0.8624 - val_loss: 0.3100 - val_accuracy: 0.8763\n",
      "Epoch 48/50\n",
      "225/225 [==============================] - 0s 1ms/step - loss: 0.3351 - accuracy: 0.8617 - val_loss: 0.3110 - val_accuracy: 0.8637\n",
      "Epoch 49/50\n",
      "225/225 [==============================] - 0s 1ms/step - loss: 0.3357 - accuracy: 0.8626 - val_loss: 0.3140 - val_accuracy: 0.8700\n",
      "Epoch 50/50\n",
      "225/225 [==============================] - 0s 1ms/step - loss: 0.3357 - accuracy: 0.8587 - val_loss: 0.3135 - val_accuracy: 0.8662\n"
     ]
    }
   ],
   "source": [
    "history = model2.fit(x_train,y_train,validation_split=0.1,epochs=50)"
   ]
  },
  {
   "cell_type": "code",
   "execution_count": 137,
   "id": "b07b01a4-677f-4567-b259-9f52094018d8",
   "metadata": {
    "tags": []
   },
   "outputs": [
    {
     "name": "stdout",
     "output_type": "stream",
     "text": [
      "dict_keys(['loss', 'accuracy', 'val_loss', 'val_accuracy'])\n"
     ]
    },
    {
     "data": {
      "image/png": "[encoded data removed]",
      "text/plain": [
       "<Figure size 640x480 with 1 Axes>"
      ]
     },
     "metadata": {},
     "output_type": "display_data"
    }
   ],
   "source": [
    "print(history.history.keys())\n",
    "plt.plot(history.history['accuracy'])\n",
    "plt.plot(history.history['val_accuracy'])\n",
    "plt.title('model_accuracy')\n",
    "plt.ylabel('accuracy')\n",
    "plt.xlabel('epoch')\n",
    "plt.legend(['train', 'test'], loc='upper left')\n",
    "plt.show()"
   ]
  },
  {
   "cell_type": "code",
   "execution_count": 138,
   "id": "f7de7698-785a-4bdb-8f2a-d2d42324ceb6",
   "metadata": {
    "tags": []
   },
   "outputs": [
    {
     "data": {
      "image/png": "[encoded data removed]",
      "text/plain": [
       "<Figure size 640x480 with 1 Axes>"
      ]
     },
     "metadata": {},
     "output_type": "display_data"
    }
   ],
   "source": [
    "plt.plot(history.history['loss'])\n",
    "plt.plot(history.history['val_loss'])\n",
    "plt.title('model loss')\n",
    "plt.ylabel('loss')\n",
    "plt.xlabel('epoch')\n",
    "plt.legend(['train', 'test'], loc='upper left')\n",
    "plt.show()"
   ]
  },
  {
   "cell_type": "code",
   "execution_count": 141,
   "id": "8381df60-2573-486e-ad65-1ecc448775f3",
   "metadata": {
    "tags": []
   },
   "outputs": [
    {
     "name": "stdout",
     "output_type": "stream",
     "text": [
      "63/63 [==============================] - 0s 842us/step\n"
     ]
    }
   ],
   "source": [
    "\n",
    "y_pred = model2.predict(x_test)\n",
    "y_pred = (y_pred > 0.5)"
   ]
  },
  {
   "cell_type": "code",
   "execution_count": 142,
   "id": "afd5e92f-3475-4ae7-bdab-6a5a47d88c48",
   "metadata": {
    "tags": []
   },
   "outputs": [
    {
     "data": {
      "text/plain": [
       "array([[1525,   92],\n",
       "       [ 207,  176]], dtype=int64)"
      ]
     },
     "execution_count": 142,
     "metadata": {},
     "output_type": "execute_result"
    }
   ],
   "source": [
    "from sklearn.metrics import confusion_matrix\n",
    "cm = confusion_matrix(y_test, y_pred)\n",
    "cm"
   ]
  },
  {
   "cell_type": "code",
   "execution_count": 143,
   "id": "7f6fecc8-ac5e-4a67-b9db-8f125702b930",
   "metadata": {
    "tags": []
   },
   "outputs": [
    {
     "data": {
      "text/plain": [
       "0.8505"
      ]
     },
     "execution_count": 143,
     "metadata": {},
     "output_type": "execute_result"
    }
   ],
   "source": [
    "from sklearn.metrics import accuracy_score\n",
    "score=accuracy_score(y_pred,y_test)\n",
    "score"
   ]
  },
  {
   "cell_type": "code",
   "execution_count": null,
   "id": "03c1966b-c95b-4720-bb34-2a8f5e5f387e",
   "metadata": {},
   "outputs": [],
   "source": []
  }
 ],
 "metadata": {
  "kernelspec": {
   "display_name": "Python 3 (ipykernel)",
   "language": "python",
   "name": "python3"
  },
  "language_info": {
   "codemirror_mode": {
    "name": "ipython",
    "version": 3
   },
   "file_extension": ".py",
   "mimetype": "text/x-python",
   "name": "python",
   "nbconvert_exporter": "python",
   "pygments_lexer": "ipython3",
   "version": "3.9.18"
  }
 },
 "nbformat": 4,
 "nbformat_minor": 5
}

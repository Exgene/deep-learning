{
 "cells": [
  {
   "cell_type": "code",
   "execution_count": 3,
   "id": "6c18ecd6-e116-4bde-8a6c-5f48d8222b26",
   "metadata": {
    "tags": []
   },
   "outputs": [],
   "source": [
    "import numpy as np\n",
    "from tensorflow import keras\n",
    "from tensorflow.keras import layers\n",
    "from tensorflow.keras.applications import VGG16, VGG19,ResNet50\n",
    "from tensorflow.keras.datasets import cifar10\n",
    "from tensorflow.keras.utils import to_categorical"
   ]
  },
  {
   "cell_type": "markdown",
   "id": "e0575288-5585-46b4-970d-d94f69f64d0d",
   "metadata": {},
   "source": [
    "# CIFAR 10 Dataset\n",
    "We will be using CIFAR-10 dataset, it consists of 60,000 32x32 color images in 10 classes, with 6k images per class"
   ]
  },
  {
   "cell_type": "code",
   "execution_count": 4,
   "id": "f613eb27-cc8f-4407-b43f-a1c3b03f2c7f",
   "metadata": {
    "tags": []
   },
   "outputs": [],
   "source": [
    "(x_train, y_train),(x_test, y_test) = cifar10.load_data()\n",
    "\n",
    "#preprocess\n",
    "x_train = x_train.astype(\"float32\")/255.0\n",
    "x_test = x_test.astype(\"float32\")/255.0\n",
    "\n",
    "#Categorical encoding\n",
    "y_train = to_categorical(y_train,10)\n",
    "y_test = to_categorical(y_test,10)"
   ]
  },
  {
   "cell_type": "code",
   "execution_count": 5,
   "id": "b1961759-f565-4ce9-b549-a46869641a6b",
   "metadata": {
    "tags": []
   },
   "outputs": [],
   "source": [
    "#Define the pretrained models\n",
    "vgg16 = VGG16(weights=\"imagenet\",include_top=False,input_shape=(32,32,3))\n",
    "vgg19 = VGG19(weights=\"imagenet\",include_top=False,input_shape=(32,32,3))\n",
    "resnet50 = ResNet50(weights=\"imagenet\",include_top=False,input_shape=(32,32,3))"
   ]
  },
  {
   "cell_type": "code",
   "execution_count": 6,
   "id": "a7916e09-c32b-4c8f-9828-09f852851340",
   "metadata": {
    "tags": []
   },
   "outputs": [],
   "source": [
    "#As we have not included the input and output layers due to include top = false , we need to define the input and output layers seperately for each of these models\n"
   ]
  },
  {
   "cell_type": "code",
   "execution_count": 7,
   "id": "c7ae44d4-645f-432a-98bc-a468efd1df25",
   "metadata": {
    "tags": []
   },
   "outputs": [],
   "source": [
    "vgg16_op = layers.GlobalAveragePooling2D()(vgg16.output)\n",
    "vgg16_op = layers.Dense(10,activation=\"softmax\")(vgg16_op)"
   ]
  },
  {
   "cell_type": "code",
   "execution_count": 8,
   "id": "501d2a7b-53d1-4bec-ac9a-22eb1d1c5440",
   "metadata": {
    "tags": []
   },
   "outputs": [],
   "source": [
    "vgg19_op = layers.GlobalAveragePooling2D()(vgg19.output)\n",
    "vgg19_op = layers.Dense(10,activation=\"softmax\")(vgg19_op)"
   ]
  },
  {
   "cell_type": "code",
   "execution_count": 9,
   "id": "50caddd7-2a80-4bcd-8c6e-dc4bc0bee745",
   "metadata": {
    "tags": []
   },
   "outputs": [],
   "source": [
    "resnet_op = layers.GlobalAveragePooling2D()(resnet50.output)\n",
    "resnet_op = layers.Dense(10,activation=\"softmax\")(resnet_op)"
   ]
  },
  {
   "cell_type": "code",
   "execution_count": 11,
   "id": "55cc8a17-8351-43cf-941b-b229ce2fffc3",
   "metadata": {
    "tags": []
   },
   "outputs": [],
   "source": [
    "#Define the complete model\n",
    "vgg16_model = keras.Model(inputs=vgg16.input,outputs=vgg16_op)\n",
    "vgg19_model = keras.Model(inputs=vgg19.input,outputs=vgg19_op)\n",
    "resnet_model = keras.Model(inputs=resnet50.input,outputs=resnet_op)"
   ]
  },
  {
   "cell_type": "code",
   "execution_count": 12,
   "id": "6cb2f797-36be-4c28-9643-e26c2368ce8b",
   "metadata": {
    "tags": []
   },
   "outputs": [],
   "source": [
    "vgg16_model.compile(loss=\"categorical_crossentropy\",optimizer=\"adam\",metrics=['accuracy'])\n",
    "vgg19_model.compile(loss=\"categorical_crossentropy\",optimizer=\"adam\",metrics=['accuracy'])\n",
    "resnet_model.compile(loss=\"categorical_crossentropy\",optimizer=\"adam\",metrics=['accuracy'])"
   ]
  },
  {
   "cell_type": "code",
   "execution_count": 13,
   "id": "98af3be7-83ad-40fc-81b8-0ae5982d127f",
   "metadata": {
    "tags": []
   },
   "outputs": [
    {
     "name": "stdout",
     "output_type": "stream",
     "text": [
      "313/313 - 47s - loss: 2.7302 - accuracy: 0.0798 - 47s/epoch - 149ms/step\n"
     ]
    }
   ],
   "source": [
    "vgg16_loss, vgg16_accuracy = vgg16_model.evaluate(x_test,y_test,verbose=2)"
   ]
  },
  {
   "cell_type": "code",
   "execution_count": 14,
   "id": "5b8efbb2-6a8c-45fe-bc15-4cdaa9a86894",
   "metadata": {
    "tags": []
   },
   "outputs": [
    {
     "data": {
      "text/plain": [
       "0.07980000227689743"
      ]
     },
     "execution_count": 14,
     "metadata": {},
     "output_type": "execute_result"
    }
   ],
   "source": [
    "vgg16_accuracy"
   ]
  },
  {
   "cell_type": "code",
   "execution_count": 15,
   "id": "17ae4d3d-ea70-4b36-ba3b-a169921c3a60",
   "metadata": {
    "tags": []
   },
   "outputs": [
    {
     "name": "stdout",
     "output_type": "stream",
     "text": [
      "313/313 - 59s - loss: 2.5313 - accuracy: 0.1153 - 59s/epoch - 187ms/step\n"
     ]
    }
   ],
   "source": [
    "vgg19_loss, vgg19_accuracy = vgg19_model.evaluate(x_test,y_test,verbose=2)"
   ]
  },
  {
   "cell_type": "code",
   "execution_count": 19,
   "id": "21d23178-7653-4341-b18c-558357696320",
   "metadata": {
    "tags": []
   },
   "outputs": [
    {
     "data": {
      "text/plain": [
       "0.1152999997138977"
      ]
     },
     "execution_count": 19,
     "metadata": {},
     "output_type": "execute_result"
    }
   ],
   "source": [
    "vgg19_accuracy"
   ]
  },
  {
   "cell_type": "code",
   "execution_count": 17,
   "id": "da7949cb-645e-44dd-ab5d-cfc18e2cea76",
   "metadata": {
    "tags": []
   },
   "outputs": [
    {
     "name": "stdout",
     "output_type": "stream",
     "text": [
      "313/313 - 25s - loss: 2.8296 - accuracy: 0.1007 - 25s/epoch - 78ms/step\n"
     ]
    }
   ],
   "source": [
    "resnet_loss, resnet_accuracy = resnet_model.evaluate(x_test,y_test,verbose=2)"
   ]
  },
  {
   "cell_type": "code",
   "execution_count": 18,
   "id": "a74ee2a8-4910-49c3-9ad8-fcbaa9603d45",
   "metadata": {
    "tags": []
   },
   "outputs": [
    {
     "data": {
      "text/plain": [
       "0.1006999984383583"
      ]
     },
     "execution_count": 18,
     "metadata": {},
     "output_type": "execute_result"
    }
   ],
   "source": [
    "resnet_accuracy"
   ]
  },
  {
   "cell_type": "code",
   "execution_count": null,
   "id": "02ba8d67-b17c-4e72-9aeb-5495848599b6",
   "metadata": {},
   "outputs": [],
   "source": []
  }
 ],
 "metadata": {
  "kernelspec": {
   "display_name": "Python 3 (ipykernel)",
   "language": "python",
   "name": "python3"
  },
  "language_info": {
   "codemirror_mode": {
    "name": "ipython",
    "version": 3
   },
   "file_extension": ".py",
   "mimetype": "text/x-python",
   "name": "python",
   "nbconvert_exporter": "python",
   "pygments_lexer": "ipython3",
   "version": "3.9.18"
  }
 },
 "nbformat": 4,
 "nbformat_minor": 5
}
